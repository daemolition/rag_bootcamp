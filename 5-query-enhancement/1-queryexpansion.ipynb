{
 "cells": [
  {
   "cell_type": "markdown",
   "id": "0e2055dd",
   "metadata": {},
   "source": [
    "# Query Enhancement - Query Expansion Techniques\n",
    "\n",
    "In a RAG Pipeline, the quality of the query sent to the retriever determines how good the retrieved context is - and therefore, how accurate the final llm answer will be."
   ]
  },
  {
   "cell_type": "code",
   "execution_count": 37,
   "id": "4e88424c",
   "metadata": {},
   "outputs": [],
   "source": [
    "from langchain_community.vectorstores import FAISS\n",
    "from langchain_huggingface import HuggingFaceEmbeddings\n",
    "from langchain.document_loaders import TextLoader\n",
    "from langchain.text_splitter import RecursiveCharacterTextSplitter\n",
    "from langchain_ollama import ChatOllama\n",
    "from langchain.prompts import PromptTemplate\n",
    "from langchain.chains.combine_documents import create_stuff_documents_chain\n",
    "from langchain.chains.retrieval import create_retrieval_chain\n",
    "from langchain_core.output_parsers import StrOutputParser\n",
    "from langchain_core.runnables import RunnableMap"
   ]
  },
  {
   "cell_type": "code",
   "execution_count": 38,
   "id": "89da4410",
   "metadata": {},
   "outputs": [],
   "source": [
    "## Step 1: Load and Split\n",
    "loader = TextLoader(\"langchain_crewai_dataset.txt\")\n",
    "text = loader.load()\n",
    "\n",
    "splitter = RecursiveCharacterTextSplitter(chunk_size=300, chunk_overlap=50)\n",
    "chunks = splitter.split_documents(text)"
   ]
  },
  {
   "cell_type": "code",
   "execution_count": 39,
   "id": "98906347",
   "metadata": {},
   "outputs": [],
   "source": [
    "# Step 2: Embedding\n",
    "embedding = HuggingFaceEmbeddings(model=\"all-MiniLM-L6-v2\")\n",
    "\n",
    "# Step 3: Vectorstror\n",
    "vectorstore = FAISS.from_documents(\n",
    "    embedding=embedding,\n",
    "    documents=chunks\n",
    ")\n",
    "\n",
    "# Step 4: Retriever\n",
    "retriever = vectorstore.as_retriever(\n",
    "    search_type=\"mmr\",\n",
    "    search_kwargs={'k': 5, 'lambda_mult': 0.7}\n",
    ")"
   ]
  },
  {
   "cell_type": "code",
   "execution_count": null,
   "id": "2aedea09",
   "metadata": {},
   "outputs": [],
   "source": [
    "# Step 5: LLM\n",
    "llm = ChatOllama(\n",
    "    model=\"qwen3:4b\",\n",
    "    num_ctx=32768,\n",
    "    reasoning=False\n",
    ")\n",
    "\n",
    "# Step 6: Query Expansion\n",
    "query_expansion_prompt = PromptTemplate.from_template(\"\"\"\n",
    "You are a helpful assistant. Expand the following query to improve document retrieval by adding relevant synonyms, technical terms and useful context.\n",
    "\n",
    "\n",
    "Original query: \"{query}\n",
    "\n",
    "Expanded query:                                                      \n",
    "\"\"\"\n",
    ")\n",
    "\n",
    "query_expension_chain = query_expansion_prompt | llm | StrOutputParser()"
   ]
  },
  {
   "cell_type": "code",
   "execution_count": null,
   "id": "c3157204",
   "metadata": {},
   "outputs": [],
   "source": [
    "from IPython.display import Markdown\n",
    "\n",
    "display(Markdown(query_expension_chain.invoke({\"query\": \"Langchain memory\"})))"
   ]
  },
  {
   "cell_type": "code",
   "execution_count": 42,
   "id": "da39dfd7",
   "metadata": {},
   "outputs": [],
   "source": [
    "# RAG asnwering prompt\n",
    "answer_prompt = PromptTemplate.from_template(\"\"\"\n",
    "Answer the question based on the context below.\n",
    "\n",
    "Context:\n",
    "{context}\n",
    "\n",
    "Question: {input}                                             \n",
    "\"\"\"\n",
    ")"
   ]
  },
  {
   "cell_type": "code",
   "execution_count": null,
   "id": "c366f2c9",
   "metadata": {},
   "outputs": [],
   "source": [
    "# Chains\n",
    "document_chain = create_stuff_documents_chain(\n",
    "    llm,\n",
    "    answer_prompt\n",
    ")\n",
    "\n",
    "# Use RunnableMap to give multiple inputs to a chain\n",
    "rag_pipeline = (\n",
    "    RunnableMap({\n",
    "        'input': lambda x: x['input'],\n",
    "        'context': lambda x: retriever.invoke(query_expension_chain.invoke({'query': x['input']}))\n",
    "}) | document_chain \n",
    ")"
   ]
  },
  {
   "cell_type": "code",
   "execution_count": null,
   "id": "683927ea",
   "metadata": {},
   "outputs": [],
   "source": [
    "# Run query\n",
    "query = {\"input\" :\"What type of memory does LangChain support?\"}\n",
    "print(query_expension_chain.invoke({'query': query}))\n",
    "response = rag_pipeline.invoke(query)\n",
    "display(Markdown(\"Answer:\\n\", response))"
   ]
  }
 ],
 "metadata": {
  "kernelspec": {
   "display_name": ".venv",
   "language": "python",
   "name": "python3"
  },
  "language_info": {
   "codemirror_mode": {
    "name": "ipython",
    "version": 3
   },
   "file_extension": ".py",
   "mimetype": "text/x-python",
   "name": "python",
   "nbconvert_exporter": "python",
   "pygments_lexer": "ipython3",
   "version": "3.12.3"
  }
 },
 "nbformat": 4,
 "nbformat_minor": 5
}
