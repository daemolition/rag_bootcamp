{
 "cells": [
  {
   "cell_type": "markdown",
   "id": "2a61224d",
   "metadata": {},
   "source": [
    "## CSV and Excel files - Structured Data"
   ]
  },
  {
   "cell_type": "code",
   "execution_count": 1,
   "id": "e99fc071",
   "metadata": {},
   "outputs": [],
   "source": [
    "import pandas as pd\n",
    "import os\n",
    "from langchain_community.document_loaders import UnstructuredExcelLoader, CSVLoader"
   ]
  },
  {
   "cell_type": "code",
   "execution_count": 3,
   "id": "0c8a3acb",
   "metadata": {},
   "outputs": [],
   "source": [
    "# Create Sample Data\n",
    "data = {\n",
    "    \"Product\": ['Laptop', 'Mouse', 'Keyboard', 'Monitor','Webcam'],\n",
    "    'Category': ['Electronics', 'Accessories', 'Accessoriec','Electronics','Electronics'],\n",
    "    'Price': [999.99, 29.99, 79.99, 299.99, 89.99],\n",
    "    'Stock': [50, 200, 150, 75, 100],\n",
    "    'Description': [\n",
    "        'hig-Performance laptop with 16GB RAM and 512GB SSD',\n",
    "        'Wireless optical mouse with ergonomic design',\n",
    "        'Mechanical keyboard with RGB backlighting',\n",
    "        '27-inch 4K monitor with HDR support',\n",
    "        '1080p webcam with noise cancellation'\n",
    "    ]\n",
    "}\n",
    "\n",
    "# Save as CSV\n",
    "df = pd.DataFrame(data)\n",
    "df.to_csv(\"data/structured_files/products.csv\")"
   ]
  },
  {
   "cell_type": "markdown",
   "id": "1089836b",
   "metadata": {},
   "source": [
    "## CSV Processing"
   ]
  },
  {
   "cell_type": "code",
   "execution_count": 4,
   "id": "58f18265",
   "metadata": {},
   "outputs": [],
   "source": [
    "from langchain_community.document_loaders import CSVLoader, UnstructuredCSVLoader"
   ]
  },
  {
   "cell_type": "code",
   "execution_count": 5,
   "id": "08f57f63",
   "metadata": {},
   "outputs": [
    {
     "name": "stdout",
     "output_type": "stream",
     "text": [
      "Using CSVLoader\n",
      "Loaded 5 documents (one per row)\n",
      "\n",
      "First document:\n",
      "Content: : 0\n",
      "Product: Laptop\n",
      "Category: Electronics\n",
      "Price: 999.99\n",
      "Stock: 50\n",
      "Description: hig-Performance laptop with 16GB RAM and 512GB SSD\n",
      "Metadata: {'source': 'data/structured_files/products.csv', 'row': 0}\n"
     ]
    }
   ],
   "source": [
    "# Method 1: Using CSVLoader\n",
    "print(\"Using CSVLoader\")\n",
    "\n",
    "try:\n",
    "    csvloader = CSVLoader(\n",
    "        \"data/structured_files/products.csv\",\n",
    "        encoding='utf-8',\n",
    "        csv_args={\n",
    "            'delimiter':',',\n",
    "            'quotechar': '\"',\n",
    "        }\n",
    "    )\n",
    "    csv_docs = csvloader.load()\n",
    "\n",
    "    print(f\"Loaded {len(csv_docs)} documents (one per row)\")\n",
    "    print(\"\\nFirst document:\")\n",
    "    print(f\"Content: {csv_docs[0].page_content}\")\n",
    "    print(f\"Metadata: {csv_docs[0].metadata}\")\n",
    "except Exception as e:\n",
    "    print(f\"Error: {e}\")"
   ]
  },
  {
   "cell_type": "code",
   "execution_count": 7,
   "id": "58c9d2f9",
   "metadata": {},
   "outputs": [
    {
     "name": "stdout",
     "output_type": "stream",
     "text": [
      "Using UnstructuredCSVLoader\n",
      "\n",
      "Element 1:\n",
      "Type: Table\n",
      "Content: Product Category Price Stock Description 0.0 Laptop Electronics 999.99 50 hig-Performance laptop wit...\n"
     ]
    }
   ],
   "source": [
    "# Method 1: Using CSVLoader\n",
    "print(\"Using UnstructuredCSVLoader\")\n",
    "\n",
    "try:\n",
    "    u_csvloader = UnstructuredCSVLoader(\n",
    "        \"data/structured_files/products.csv\",\n",
    "        mode=\"elements\",\n",
    "        unstructured_csv_args={\n",
    "            'delimiter':',',\n",
    "            'quotechar': '\"',\n",
    "            'encoding': 'utf-8',\n",
    "        }\n",
    "    )\n",
    "    csv_docs = u_csvloader.load()\n",
    "\n",
    "    for i, doc in enumerate(csv_docs[:3]):\n",
    "        print(f\"\\nElement {i+1}:\")\n",
    "        print(f\"Type: {doc.metadata.get('category', 'unknown')}\")\n",
    "        print(f\"Content: {doc.page_content[:100]}...\")\n",
    "except Exception as e:\n",
    "    print(f\"Error: {e}\")"
   ]
  },
  {
   "cell_type": "markdown",
   "id": "4bfa97e1",
   "metadata": {},
   "source": [
    "## Excel processing"
   ]
  },
  {
   "cell_type": "code",
   "execution_count": 16,
   "id": "a79b9d9c",
   "metadata": {},
   "outputs": [
    {
     "name": "stdout",
     "output_type": "stream",
     "text": [
      "Pandas based excel processing\n"
     ]
    }
   ],
   "source": [
    "from typing import List\n",
    "from langchain_core.documents import Document\n",
    "\n",
    "# Method 1: Using pandas for full control\n",
    "print(\"Pandas based excel processing\")\n",
    "def process_excel_with_pandas(filepath: str) -> List[Document]:\n",
    "    \"\"\"Process Excel with shee awareness\"\"\"\n",
    "    \n",
    "    documents = []\n",
    "    \n",
    "    # Real all sheets\n",
    "    excel_file = pd.ExcelFile(filepath)\n",
    "    \n",
    "    for sheet_name in excel_file.sheet_names:\n",
    "        df = pd.read_excel(filepath, sheet_name=sheet_name)\n",
    "        \n",
    "        # Create document for each sheet\n",
    "        sheet_content = f\"Sheet: {sheet_name}\\n\"\n",
    "        sheet_content += f\"Columns: {', '.join(df.columns)}\\n\"\n",
    "        sheet_content += f\"Rows: {len(df)}\\n\\n\"\n",
    "        sheet_content += df.to_string(index=False)\n",
    "        \n",
    "        doc = Document(\n",
    "            page_content=sheet_content,\n",
    "            metadata={\n",
    "                \"source\": filepath,\n",
    "                \"sheet_name\": sheet_name,\n",
    "                \"num_rows\": len(df),\n",
    "                \"num_columns\": len(df.columns),\n",
    "                \"data_type\": \"excel_sheet\",\n",
    "            }                            \n",
    "        )\n",
    "        documents.append(doc)\n",
    "        \n",
    "    return documents"
   ]
  },
  {
   "cell_type": "code",
   "execution_count": 17,
   "id": "0caa2908",
   "metadata": {},
   "outputs": [
    {
     "name": "stdout",
     "output_type": "stream",
     "text": [
      "Processed 2 sheets\n"
     ]
    }
   ],
   "source": [
    "excel_docs = process_excel_with_pandas(\"data/structured_files/inventory.xlsx\")\n",
    "print(f\"Processed {len(excel_docs)} sheets\")"
   ]
  },
  {
   "cell_type": "code",
   "execution_count": 22,
   "id": "e0e97137",
   "metadata": {},
   "outputs": [
    {
     "name": "stdout",
     "output_type": "stream",
     "text": [
      "\n",
      "Using UnstructuredExcelloader\n"
     ]
    },
    {
     "data": {
      "text/plain": [
       "[Document(metadata={'source': 'data/structured_files/inventory.xlsx', 'file_directory': 'data/structured_files', 'filename': 'inventory.xlsx', 'last_modified': '2025-07-07T14:26:30', 'page_name': 'Products', 'page_number': 1, 'text_as_html': '<table><tr><td>Product</td><td>Category</td><td>Price</td><td>Stock</td><td>Description</td></tr><tr><td>Laptop</td><td>Electronics</td><td>999.99</td><td>50</td><td>High-performance laptop with 16GB RAM and 512GB SSD</td></tr><tr><td>Mouse</td><td>Accessories</td><td>29.99</td><td>200</td><td>Wireless optical mouse with ergonomic design</td></tr><tr><td>Keyboard</td><td>Accessories</td><td>79.99</td><td>150</td><td>Mechanical keyboard with RGB backlighting</td></tr><tr><td>Monitor</td><td>Electronics</td><td>299.99</td><td>75</td><td>27-inch 4K monitor with HDR support</td></tr><tr><td>Webcam</td><td>Electronics</td><td>89.99</td><td>100</td><td>1080p webcam with noise cancellation</td></tr></table>', 'languages': ['eng'], 'filetype': 'application/vnd.openxmlformats-officedocument.spreadsheetml.sheet', 'category': 'Table', 'element_id': '6c3514d8bca67e1cbfa020192b595264'}, page_content='Product Category Price Stock Description Laptop Electronics 999.99 50 High-performance laptop with 16GB RAM and 512GB SSD Mouse Accessories 29.99 200 Wireless optical mouse with ergonomic design Keyboard Accessories 79.99 150 Mechanical keyboard with RGB backlighting Monitor Electronics 299.99 75 27-inch 4K monitor with HDR support Webcam Electronics 89.99 100 1080p webcam with noise cancellation'),\n",
       " Document(metadata={'source': 'data/structured_files/inventory.xlsx', 'file_directory': 'data/structured_files', 'filename': 'inventory.xlsx', 'last_modified': '2025-07-07T14:26:30', 'page_name': 'Summary', 'page_number': 2, 'text_as_html': '<table><tr><td>Category</td><td>Total_Items</td><td>Total_Value</td></tr><tr><td>Electronics</td><td>3</td><td>1389.97</td></tr><tr><td>Accessories</td><td>2</td><td>109.98</td></tr></table>', 'languages': ['eng'], 'filetype': 'application/vnd.openxmlformats-officedocument.spreadsheetml.sheet', 'category': 'Table', 'element_id': 'dcf57c06f0490353601c69aaefb62f83'}, page_content='Category Total_Items Total_Value Electronics 3 1389.97 Accessories 2 109.98')]"
      ]
     },
     "execution_count": 22,
     "metadata": {},
     "output_type": "execute_result"
    }
   ],
   "source": [
    "## Using UnstrcuturedExcelLoader\n",
    "print(\"\\nUsing UnstructuredExcelloader\")\n",
    "\n",
    "excel_loader = UnstructuredExcelLoader(\n",
    "    \"data/structured_files/inventory.xlsx\",\n",
    "    mode=\"elements\"\n",
    ")\n",
    "\n",
    "docs = excel_loader.load()\n",
    "docs"
   ]
  },
  {
   "cell_type": "code",
   "execution_count": null,
   "id": "4d0fd54c",
   "metadata": {},
   "outputs": [],
   "source": []
  }
 ],
 "metadata": {
  "kernelspec": {
   "display_name": ".venv",
   "language": "python",
   "name": "python3"
  },
  "language_info": {
   "codemirror_mode": {
    "name": "ipython",
    "version": 3
   },
   "file_extension": ".py",
   "mimetype": "text/x-python",
   "name": "python",
   "nbconvert_exporter": "python",
   "pygments_lexer": "ipython3",
   "version": "3.12.3"
  }
 },
 "nbformat": 4,
 "nbformat_minor": 5
}
