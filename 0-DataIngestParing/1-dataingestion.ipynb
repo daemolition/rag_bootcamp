{
 "cells": [
  {
   "cell_type": "markdown",
   "id": "f01f796c",
   "metadata": {},
   "source": [
    "### Introduction to Data Ingestion"
   ]
  },
  {
   "cell_type": "code",
   "execution_count": 7,
   "id": "2be38efe",
   "metadata": {},
   "outputs": [],
   "source": [
    "import langchain\n",
    "from typing import List, Dict, Any\n",
    "import pandas as pd"
   ]
  },
  {
   "cell_type": "code",
   "execution_count": 9,
   "id": "0e602173",
   "metadata": {},
   "outputs": [
    {
     "name": "stdout",
     "output_type": "stream",
     "text": [
      "Setup completed. Ready to start data ingestion!\n"
     ]
    }
   ],
   "source": [
    "from langchain_core.documents import Document\n",
    "from langchain.text_splitter import (\n",
    "    RecursiveCharacterTextSplitter,\n",
    "    CharacterTextSplitter,\n",
    "    TokenTextSplitter\n",
    ")\n",
    "\n",
    "print(\"Setup completed. Ready to start data ingestion!\")"
   ]
  },
  {
   "cell_type": "markdown",
   "id": "9a256dc4",
   "metadata": {},
   "source": [
    "### Understanding Document Structure in Langchain"
   ]
  },
  {
   "cell_type": "code",
   "execution_count": 14,
   "id": "b9b02094",
   "metadata": {},
   "outputs": [
    {
     "name": "stdout",
     "output_type": "stream",
     "text": [
      "page_content='This is the main text content that will be embedded and searched' metadata={'source': 'example.txt', 'page': 1, 'date_created': '2024-01-01', 'custom_field': 'any_value'}\n",
      "Content: This is the main text content that will be embedded and searched\n",
      "Content: example.txt\n",
      "\n",
      " Metadata is crucia for:\n",
      "- Filtering search results\n",
      "- Tracking document sources\n",
      "- Providing context in responses\n",
      "- Debugging and auditing\n"
     ]
    }
   ],
   "source": [
    "## Create a simple document\n",
    "doc = Document(\n",
    "    page_content=\"This is the main text content that will be embedded and searched\",\n",
    "    metadata={\n",
    "        \"source\": \"example.txt\",\n",
    "        \"page\": 1,\n",
    "        \"date_created\":\"2024-01-01\",\n",
    "        \"custom_field\":\"any_value\"\n",
    "    }\n",
    ")\n",
    "\n",
    "print(doc)\n",
    "\n",
    "print(f\"Content: {doc.page_content}\")\n",
    "print(f\"Content: {doc.metadata['source']}\")\n",
    "\n",
    "# Why Metadata Matters?\n",
    "print(\"\\n Metadata is crucia for:\")\n",
    "print(\"- Filtering search results\")\n",
    "print(\"- Tracking document sources\")\n",
    "print(\"- Providing context in responses\")\n",
    "print(\"- Debugging and auditing\")"
   ]
  },
  {
   "cell_type": "markdown",
   "id": "2d8a3fbe",
   "metadata": {},
   "source": [
    "### Text Files (*.txt) - The Simplest Case"
   ]
  },
  {
   "cell_type": "code",
   "execution_count": 15,
   "id": "dfafb845",
   "metadata": {},
   "outputs": [],
   "source": [
    "## Create a simple text file\n",
    "import os\n",
    "os.makedirs(\"data/text_files\", exist_ok=True)"
   ]
  },
  {
   "cell_type": "code",
   "execution_count": 18,
   "id": "7ec5ce2e",
   "metadata": {},
   "outputs": [
    {
     "name": "stdout",
     "output_type": "stream",
     "text": [
      "Sample files created successfully.\n"
     ]
    }
   ],
   "source": [
    "sample_texts= {\n",
    "    \"data/text_files/python_intro.txt\": \"\"\"\n",
    "    Python is a high-level, interpreted programming language known for its simplicity and readability. \n",
    "    It was created by Guido van Rossum and first released in 1991. Python supports multiple programming paradigms, including procedural, object-oriented, \n",
    "    and functional programming.\n",
    "    \n",
    "    One of the key features of Python is its extensive standard library, which provides ready-to-use modules for a wide range of tasks, from file I/O to web development. \n",
    "    This makes it an excellent choice for both beginners and experienced developers.\n",
    "    \n",
    "    Python's syntax is designed to be intuitive and easy to learn, making it accessible even to those with no prior programming experience. \n",
    "    Its dynamic typing system allows for more flexible code writing, while its garbage collection mechanism simplifies memory management.\n",
    "    Popular applications of Python include web development (using frameworks like Django and Flask), data analysis (with libraries such as Pandas and NumPy), \n",
    "    artificial intelligence (through TensorFlow and PyTorch), and automation scripts. The language's versatility has led to its widespread adoption in various industries, \n",
    "    from finance to healthcare.\n",
    "\"\"\"\n",
    "}\n",
    "\n",
    "for filepath, content in sample_texts.items():\n",
    "    with open(filepath, \"w\", encoding=\"utf-8\") as file:\n",
    "        file.write(content)\n",
    "        \n",
    "print(\"Sample files created successfully.\")\n",
    "        "
   ]
  },
  {
   "cell_type": "markdown",
   "id": "843b8464",
   "metadata": {},
   "source": [
    "### TextLoader - Read Single File"
   ]
  },
  {
   "cell_type": "code",
   "execution_count": 26,
   "id": "b335bd19",
   "metadata": {},
   "outputs": [
    {
     "name": "stdout",
     "output_type": "stream",
     "text": [
      "Loaded 1\n",
      "Document content: \n",
      "    Python is a high-level, interpreted programming language known for its simplicity and readabili...\n",
      "Metadata: {'source': 'data/text_files/python_intro.txt'}\n"
     ]
    }
   ],
   "source": [
    "from langchain.document_loaders import TextLoader\n",
    "\n",
    "## Loading a single text file\n",
    "loader = TextLoader(\n",
    "    \"data/text_files/python_intro.txt\",\n",
    "    encoding='utf-8'\n",
    ")\n",
    "\n",
    "documents = loader.load()\n",
    "print(f\"Loaded {len(documents)}\")\n",
    "print(f\"Document content: {documents[0].page_content[:100]}...\")\n",
    "print(f\"Metadata: {documents[0].metadata}\")"
   ]
  },
  {
   "cell_type": "markdown",
   "id": "c44a90ae",
   "metadata": {},
   "source": [
    "### DirectoryLoader - Multiple text Files"
   ]
  },
  {
   "cell_type": "code",
   "execution_count": 30,
   "id": "74cdc5c0",
   "metadata": {},
   "outputs": [
    {
     "name": "stderr",
     "output_type": "stream",
     "text": [
      "100%|██████████| 1/1 [00:00<00:00, 1882.54it/s]"
     ]
    },
    {
     "name": "stdout",
     "output_type": "stream",
     "text": [
      "Loaded 1\n",
      "\n",
      "Documents 1\n",
      "Source: data/text_files/python_intro.txt\n",
      "Length: 1192 characters\n",
      "\n",
      "DirectoryLoader Characteristics\n",
      "\n",
      "Advantages:\n",
      "- Loads multiple files at onece\n",
      "- supports global patterns\n",
      "- progress tracking\n",
      "- Recursive directory scanning\n",
      "\n",
      "Disadvantages:\n",
      "- all files must be same type\n",
      "- limited error handling per file\n",
      "- can be memory intensive for large directories or large files\n"
     ]
    },
    {
     "name": "stderr",
     "output_type": "stream",
     "text": [
      "\n"
     ]
    }
   ],
   "source": [
    "from langchain_community.document_loaders import DirectoryLoader\n",
    "\n",
    "## load all the text files from the directory\n",
    "dir_loader = DirectoryLoader(\n",
    "    \"data/text_files\",\n",
    "    glob=\"**/*.txt\", # Pattern to match files\n",
    "    loader_cls=TextLoader, # Loader class to use\n",
    "    loader_kwargs={\"encoding\": 'utf-8'},\n",
    "    show_progress=True\n",
    ")\n",
    "\n",
    "documents = dir_loader.load()\n",
    "\n",
    "print(f\"Loaded {len(documents)}\")\n",
    "for i, doc in enumerate(documents):\n",
    "    print(f\"\\nDocuments {i+1}\")\n",
    "    print(f\"Source: {doc.metadata['source']}\")\n",
    "    print(f\"Length: {len(doc.page_content)} characters\")\n",
    "    \n",
    "\n",
    "# Analysis\n",
    "print(\"\\nDirectoryLoader Characteristics\\n\")\n",
    "print(\"Advantages:\")\n",
    "print(\"- Loads multiple files at onece\")\n",
    "print(\"- supports global patterns\")\n",
    "print(\"- progress tracking\")\n",
    "print(\"- Recursive directory scanning\")\n",
    "\n",
    "print(\"\\nDisadvantages:\")\n",
    "print(\"- all files must be same type\")\n",
    "print(\"- limited error handling per file\")\n",
    "print(\"- can be memory intensive for large directories or large files\")"
   ]
  },
  {
   "cell_type": "markdown",
   "id": "868d6eaf",
   "metadata": {},
   "source": [
    "## Text Splitting Strategies"
   ]
  },
  {
   "cell_type": "code",
   "execution_count": 31,
   "id": "99dcb034",
   "metadata": {},
   "outputs": [
    {
     "name": "stdout",
     "output_type": "stream",
     "text": [
      "[Document(metadata={'source': 'data/text_files/python_intro.txt'}, page_content=\"\\n    Python is a high-level, interpreted programming language known for its simplicity and readability. \\n    It was created by Guido van Rossum and first released in 1991. Python supports multiple programming paradigms, including procedural, object-oriented, \\n    and functional programming.\\n\\n    One of the key features of Python is its extensive standard library, which provides ready-to-use modules for a wide range of tasks, from file I/O to web development. \\n    This makes it an excellent choice for both beginners and experienced developers.\\n\\n    Python's syntax is designed to be intuitive and easy to learn, making it accessible even to those with no prior programming experience. \\n    Its dynamic typing system allows for more flexible code writing, while its garbage collection mechanism simplifies memory management.\\n    Popular applications of Python include web development (using frameworks like Django and Flask), data analysis (with libraries such as Pandas and NumPy), \\n    artificial intelligence (through TensorFlow and PyTorch), and automation scripts. The language's versatility has led to its widespread adoption in various industries, \\n    from finance to healthcare.\\n\")]\n"
     ]
    }
   ],
   "source": [
    "### Different text splitting strategies\n",
    "from langchain.text_splitter import (\n",
    "    CharacterTextSplitter,\n",
    "    RecursiveCharacterTextSplitter,\n",
    "    TokenTextSplitter\n",
    ")\n",
    "\n",
    "print(documents)"
   ]
  },
  {
   "cell_type": "code",
   "execution_count": 46,
   "id": "f1447d0a",
   "metadata": {},
   "outputs": [
    {
     "data": {
      "text/plain": [
       "\"\\n    Python is a high-level, interpreted programming language known for its simplicity and readability. \\n    It was created by Guido van Rossum and first released in 1991. Python supports multiple programming paradigms, including procedural, object-oriented, \\n    and functional programming.\\n\\n    One of the key features of Python is its extensive standard library, which provides ready-to-use modules for a wide range of tasks, from file I/O to web development. \\n    This makes it an excellent choice for both beginners and experienced developers.\\n\\n    Python's syntax is designed to be intuitive and easy to learn, making it accessible even to those with no prior programming experience. \\n    Its dynamic typing system allows for more flexible code writing, while its garbage collection mechanism simplifies memory management.\\n    Popular applications of Python include web development (using frameworks like Django and Flask), data analysis (with libraries such as Pandas and NumPy), \\n    artificial intelligence (through TensorFlow and PyTorch), and automation scripts. The language's versatility has led to its widespread adoption in various industries, \\n    from finance to healthcare.\\n\""
      ]
     },
     "execution_count": 46,
     "metadata": {},
     "output_type": "execute_result"
    }
   ],
   "source": [
    "### Method 1 - Character Text Splitter\n",
    "text = documents[0].page_content\n",
    "text"
   ]
  },
  {
   "cell_type": "code",
   "execution_count": 47,
   "id": "55e7c946",
   "metadata": {},
   "outputs": [
    {
     "name": "stdout",
     "output_type": "stream",
     "text": [
      "CharacterTextSplitter\n",
      "Created 9 chunks\n",
      "First chunk: Python is a high-level, interpreted programming language known for its simplicity and readability....\n"
     ]
    }
   ],
   "source": [
    "print(\"CharacterTextSplitter\")\n",
    "splitter = CharacterTextSplitter(\n",
    "    separator=\"\\n\", # Split on new lines\n",
    "    chunk_size=200, # Max chunk size in characters\n",
    "    chunk_overlap=20, # Overlap between chunks\n",
    "    length_function=len # how to measure the length of a text chunk\n",
    ")\n",
    "\n",
    "char_chunks = splitter.split_text(text)\n",
    "print(f\"Created {len(char_chunks)} chunks\")\n",
    "print(f\"First chunk: {char_chunks[0][:100]}...\")"
   ]
  },
  {
   "cell_type": "code",
   "execution_count": 48,
   "id": "e841eb8b",
   "metadata": {},
   "outputs": [
    {
     "name": "stdout",
     "output_type": "stream",
     "text": [
      "Python is a high-level, interpreted programming language known for its simplicity and readability.\n",
      "-------------\n",
      "It was created by Guido van Rossum and first released in 1991. Python supports multiple programming paradigms, including procedural, object-oriented, \n",
      "    and functional programming.\n",
      "-------------\n",
      "One of the key features of Python is its extensive standard library, which provides ready-to-use modules for a wide range of tasks, from file I/O to web development.\n",
      "-------------\n"
     ]
    }
   ],
   "source": [
    "print(char_chunks[0])\n",
    "print(\"-------------\")\n",
    "print(char_chunks[1])\n",
    "print(\"-------------\")\n",
    "print(char_chunks[2])\n",
    "print(\"-------------\")"
   ]
  },
  {
   "cell_type": "code",
   "execution_count": 49,
   "id": "497e72f5",
   "metadata": {},
   "outputs": [
    {
     "name": "stdout",
     "output_type": "stream",
     "text": [
      "\n",
      "RecursiveCharacterTextSplitter\n",
      "Created 9 chunks\n",
      "First chunk: Python is a high-level, interpreted programming language known for its simplicity and readability....\n"
     ]
    }
   ],
   "source": [
    "# Method 2 - Recursive Character Text Splitter\n",
    "# Most recommended text splitter technique\n",
    "print(\"\\nRecursiveCharacterTextSplitter\")\n",
    "recursive_splitter = RecursiveCharacterTextSplitter(\n",
    "    separators=[\"\\n\\n\", \"\\n\", \" \", \",\"], # Try this separators in order\n",
    "    chunk_size=200,\n",
    "    chunk_overlap=20,\n",
    "    length_function=len\n",
    ")\n",
    "\n",
    "recursive_chunks = recursive_splitter.split_text(text)\n",
    "print(f\"Created {len(char_chunks)} chunks\")\n",
    "print(f\"First chunk: {char_chunks[0][:100]}...\")"
   ]
  },
  {
   "cell_type": "code",
   "execution_count": 50,
   "id": "aac246f5",
   "metadata": {},
   "outputs": [
    {
     "name": "stdout",
     "output_type": "stream",
     "text": [
      "Python is a high-level, interpreted programming language known for its simplicity and readability.\n",
      "-------------\n",
      "It was created by Guido van Rossum and first released in 1991. Python supports multiple programming paradigms, including procedural, object-oriented, \n",
      "    and functional programming.\n",
      "-------------\n"
     ]
    }
   ],
   "source": [
    "print(recursive_chunks[0])\n",
    "print(\"-------------\")\n",
    "print(recursive_chunks[1])\n",
    "print(\"-------------\")"
   ]
  },
  {
   "cell_type": "code",
   "execution_count": 53,
   "id": "e258c2d2",
   "metadata": {},
   "outputs": [
    {
     "name": "stdout",
     "output_type": "stream",
     "text": [
      "\n",
      "TokenTextSplitter\n",
      "Created 7 chunks\n",
      "First chunk: \n",
      "    Python is a high-level, interpreted programming language known for its simplicity and readabili...\n",
      "\n",
      "    Python is a high-level, interpreted programming language known for its simplicity and readability. \n",
      "    It was created by Guido van Rossum and first released in 1991. Python supports multiple programming paradigms,\n",
      "-------------\n",
      " 1991. Python supports multiple programming paradigms, including procedural, object-oriented, \n",
      "    and functional programming.\n",
      "\n",
      "    One of the key features of Python is its extensive standard library, which provides ready-to-use\n",
      "-------------\n"
     ]
    }
   ],
   "source": [
    "# Method 3: TokenTextSplitter\n",
    "print(\"\\nTokenTextSplitter\")\n",
    "token_splitter = TokenTextSplitter(\n",
    "    chunk_size=50, # Size in tokens (not characters)\n",
    "    chunk_overlap=10\n",
    ")\n",
    "\n",
    "token_chunks = token_splitter.split_text(text)\n",
    "print(f\"Created {len(token_chunks)} chunks\")\n",
    "print(f\"First chunk: {token_chunks[0][:100]}...\")\n",
    "\n",
    "print(token_chunks[0])\n",
    "print(\"-------------\")\n",
    "print(token_chunks[1])\n",
    "print(\"-------------\")"
   ]
  },
  {
   "cell_type": "markdown",
   "id": "f0f4d26d",
   "metadata": {},
   "source": [
    "## Comparison\n",
    "\n",
    "#### CharacterTextSplitter\n",
    "* Simple and Predictable\n",
    "* Good for structured text\n",
    "* May break mid-sentence  \n",
    "**Use when:** text has clear delimiters\n",
    "\n",
    "#### RecursiveCharacterTextSplitter\n",
    "* Respects text structure\n",
    "* Tries multiple seperators\n",
    "* best general-purpose splitter\n",
    "* Slightly more complex  \n",
    "**Use when:** Default choice for most texts\n",
    "\n",
    "#### TokentextSplitter\n",
    "* Respects model token limits\n",
    "* More accurate for embeddings\n",
    "* Slower than character-based  \n",
    "**Use When:** Working with token-limited models"
   ]
  },
  {
   "cell_type": "code",
   "execution_count": null,
   "id": "f8badc63",
   "metadata": {},
   "outputs": [],
   "source": []
  }
 ],
 "metadata": {
  "kernelspec": {
   "display_name": ".venv",
   "language": "python",
   "name": "python3"
  },
  "language_info": {
   "codemirror_mode": {
    "name": "ipython",
    "version": 3
   },
   "file_extension": ".py",
   "mimetype": "text/x-python",
   "name": "python",
   "nbconvert_exporter": "python",
   "pygments_lexer": "ipython3",
   "version": "3.12.3"
  }
 },
 "nbformat": 4,
 "nbformat_minor": 5
}
