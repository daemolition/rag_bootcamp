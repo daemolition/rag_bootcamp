{
 "cells": [
  {
   "cell_type": "code",
   "execution_count": 1,
   "id": "e4e4dfd1",
   "metadata": {},
   "outputs": [
    {
     "data": {
      "text/plain": [
       "True"
      ]
     },
     "execution_count": 1,
     "metadata": {},
     "output_type": "execute_result"
    }
   ],
   "source": [
    "import os\n",
    "from dotenv import load_dotenv\n",
    "import numpy as np\n",
    "from typing import List, Dict, Any, Optional\n",
    "import warnings\n",
    "warnings.filterwarnings(\"ignore\")\n",
    "\n",
    "from langchain_core.documents import Document\n",
    "from langchain_core.prompts import ChatPromptTemplate, PromptTemplate\n",
    "from langchain_core.runnables import RunnablePassthrough\n",
    "from langchain_core.output_parsers import StrOutputParser\n",
    "from langchain_core.messages import HumanMessage, AIMessage\n",
    "\n",
    "from langchain_text_splitters import RecursiveCharacterTextSplitter\n",
    "from langchain_ollama import ChatOllama\n",
    "from langchain_huggingface import HuggingFaceEndpointEmbeddings\n",
    "from langchain_community.document_loaders import TextLoader, PyPDFLoader\n",
    "from langchain_community.vectorstores import FAISS\n",
    "from langchain.chains import create_retrieval_chain\n",
    "from langchain.chains.combine_documents import create_stuff_documents_chain\n",
    "\n",
    "load_dotenv()"
   ]
  },
  {
   "cell_type": "code",
   "execution_count": 2,
   "id": "50709a9d",
   "metadata": {},
   "outputs": [],
   "source": [
    "## Data ingestion and processing\n",
    "sample_documents=[\n",
    "    Document(\n",
    "        page_content=\"\"\"\n",
    "        Artificial intelligence (AI) refers to the simulation of human intelligence in machines that are programmed to think, learn, and act like humans. AI can be used for a wide range of applications, including natural language processing, computer vision, robotics, and more.\n",
    "        There are two main types of AI: narrow or weak AI, which is designed to perform specific tasks, and general or strong AI, which is capable of performing any intellectual task that a human can do. Narrow AI is often used in applications like voice assistants, recommendation systems, and image recognition, while general AI is still the subject of ongoing research.\n",
    "        One of the key challenges in developing AI is ensuring that it is safe and ethical to use. This includes addressing issues like bias, privacy, and accountability. As AI becomes more advanced, it's important to consider how it will impact society and ensure that it is used for positive purposes.\n",
    "        Overall, AI has the potential to revolutionize many industries and improve our lives in countless ways. However, it's important to approach its development with caution and ensure that it is used responsibly and ethically.\n",
    "        \"\"\",\n",
    "        metadata={\"source\": \"AI Indtroduction\", \"page\": 1, \"topic\": \"AI\"}\n",
    "    ),\n",
    "    Document(\n",
    "        page_content=\"\"\"\n",
    "        Machine learning (ML) refers to the process of building algorithms that can learn from data and improve their performance over time. ML is a subset of AI and is used in a wide range of applications, including image recognition, natural language processing, fraud detection, and more.\n",
    "        There are two main types of machine learning: supervised and unsupervised. Supervised learning involves training the algorithm on labeled data, where each input-output pair is known. Unsupervised learning involves training the algorithm on unlabeled data, where only the inputs are known.\n",
    "        One of the key challenges in developing ML algorithms is ensuring that they are accurate and reliable. This includes addressing issues like overfitting, underfitting, and bias. As ML becomes more advanced, it's important to consider how it will impact society and ensure that it is used for positive purposes.\n",
    "        Overall, machine learning has the potential to revolutionize many industries and improve our lives in countless ways. However, it's important to approach its development with caution and ensure that it is used responsibly and ethically.\n",
    "        \"\"\",\n",
    "        metadata={\"source\":\"ML Basiscs\", \"page\": 1, \"topic\": \"ML\"}\n",
    "    ),\n",
    "    Document(\n",
    "        page_content=\"\"\"\n",
    "        Deep learning refers to a subset of machine learning that uses neural networks to learn from data. Neural networks are composed of layers of interconnected nodes or neurons, which process and transmit information through the network.\n",
    "        There are two main types of neural networks: feedforward and recurrent. Feedforward neural networks are used for tasks like image recognition and natural language processing, while recurrent neural networks (RNNs) are used for tasks like speech recognition and time series analysis.\n",
    "        One of the key challenges in developing deep learning models is ensuring that they are accurate and reliable. This includes addressing issues like overfitting, underfitting, and bias. As deep learning becomes more advanced, it's important to consider how it will impact society and ensure that it is used for positive purposes.\n",
    "        Overall, deep learning has the potential to revolutionize many industries and improve our lives in countless ways. However, it's important to approach its development with caution and ensure that it is used responsibly and ethically.\n",
    "        \"\"\",\n",
    "        metadata={\"source\":\"Deep Learning\", \"page\": 1, \"topic\": \"DL\"}\n",
    "    ),\n",
    "    Document(\n",
    "        page_content=\"\"\"\n",
    "        Natural language processing (NLP) refers to the field of computer science that focuses on the interactions between computers and human languages. NLP involves developing algorithms and models that can process and analyze natural language data, such as text, speech, and images.\n",
    "        There are several subfields within NLP, including machine learning, deep learning, and computational linguistics. Machine learning techniques are used to develop models that can learn from labeled data and improve their performance over time. Deep learning is a subset of machine learning that uses neural networks to learn from data. Computational linguistics involves studying the structure and properties of natural language.\n",
    "        One of the key challenges in developing NLP systems is ensuring that they are accurate and reliable. This includes addressing issues like ambiguity, sarcasm, and context sensitivity. As NLP becomes more advanced, it's important to consider how it will impact society and ensure that it is used for positive purposes.\n",
    "        Overall, NLP has the potential to revolutionize many industries and improve our lives in countless ways. However, it's important to approach its development with caution and ensure that it is used responsibly and ethically.\n",
    "        \"\"\",\n",
    "        metadata={\"source\": \"NLP Overview\", \"page\": 1, \"topic\": \"NLP\"}\n",
    "    )\n",
    "]"
   ]
  },
  {
   "cell_type": "code",
   "execution_count": 3,
   "id": "96acd2e8",
   "metadata": {},
   "outputs": [
    {
     "data": {
      "text/plain": [
       "[Document(metadata={'source': 'AI Indtroduction', 'page': 1, 'topic': 'AI'}, page_content=\"\\n        Artificial intelligence (AI) refers to the simulation of human intelligence in machines that are programmed to think, learn, and act like humans. AI can be used for a wide range of applications, including natural language processing, computer vision, robotics, and more.\\n        There are two main types of AI: narrow or weak AI, which is designed to perform specific tasks, and general or strong AI, which is capable of performing any intellectual task that a human can do. Narrow AI is often used in applications like voice assistants, recommendation systems, and image recognition, while general AI is still the subject of ongoing research.\\n        One of the key challenges in developing AI is ensuring that it is safe and ethical to use. This includes addressing issues like bias, privacy, and accountability. As AI becomes more advanced, it's important to consider how it will impact society and ensure that it is used for positive purposes.\\n        Overall, AI has the potential to revolutionize many industries and improve our lives in countless ways. However, it's important to approach its development with caution and ensure that it is used responsibly and ethically.\\n        \"),\n",
       " Document(metadata={'source': 'ML Basiscs', 'page': 1, 'topic': 'ML'}, page_content=\"\\n        Machine learning (ML) refers to the process of building algorithms that can learn from data and improve their performance over time. ML is a subset of AI and is used in a wide range of applications, including image recognition, natural language processing, fraud detection, and more.\\n        There are two main types of machine learning: supervised and unsupervised. Supervised learning involves training the algorithm on labeled data, where each input-output pair is known. Unsupervised learning involves training the algorithm on unlabeled data, where only the inputs are known.\\n        One of the key challenges in developing ML algorithms is ensuring that they are accurate and reliable. This includes addressing issues like overfitting, underfitting, and bias. As ML becomes more advanced, it's important to consider how it will impact society and ensure that it is used for positive purposes.\\n        Overall, machine learning has the potential to revolutionize many industries and improve our lives in countless ways. However, it's important to approach its development with caution and ensure that it is used responsibly and ethically.\\n        \"),\n",
       " Document(metadata={'source': 'Deep Learning', 'page': 1, 'topic': 'DL'}, page_content=\"\\n        Deep learning refers to a subset of machine learning that uses neural networks to learn from data. Neural networks are composed of layers of interconnected nodes or neurons, which process and transmit information through the network.\\n        There are two main types of neural networks: feedforward and recurrent. Feedforward neural networks are used for tasks like image recognition and natural language processing, while recurrent neural networks (RNNs) are used for tasks like speech recognition and time series analysis.\\n        One of the key challenges in developing deep learning models is ensuring that they are accurate and reliable. This includes addressing issues like overfitting, underfitting, and bias. As deep learning becomes more advanced, it's important to consider how it will impact society and ensure that it is used for positive purposes.\\n        Overall, deep learning has the potential to revolutionize many industries and improve our lives in countless ways. However, it's important to approach its development with caution and ensure that it is used responsibly and ethically.\\n        \"),\n",
       " Document(metadata={'source': 'NLP Overview', 'page': 1, 'topic': 'NLP'}, page_content=\"\\n        Natural language processing (NLP) refers to the field of computer science that focuses on the interactions between computers and human languages. NLP involves developing algorithms and models that can process and analyze natural language data, such as text, speech, and images.\\n        There are several subfields within NLP, including machine learning, deep learning, and computational linguistics. Machine learning techniques are used to develop models that can learn from labeled data and improve their performance over time. Deep learning is a subset of machine learning that uses neural networks to learn from data. Computational linguistics involves studying the structure and properties of natural language.\\n        One of the key challenges in developing NLP systems is ensuring that they are accurate and reliable. This includes addressing issues like ambiguity, sarcasm, and context sensitivity. As NLP becomes more advanced, it's important to consider how it will impact society and ensure that it is used for positive purposes.\\n        Overall, NLP has the potential to revolutionize many industries and improve our lives in countless ways. However, it's important to approach its development with caution and ensure that it is used responsibly and ethically.\\n        \")]"
      ]
     },
     "execution_count": 3,
     "metadata": {},
     "output_type": "execute_result"
    }
   ],
   "source": [
    "sample_documents"
   ]
  },
  {
   "cell_type": "markdown",
   "id": "8feb33a9",
   "metadata": {},
   "source": [
    "### Text splitting"
   ]
  },
  {
   "cell_type": "code",
   "execution_count": 4,
   "id": "693a3c59",
   "metadata": {},
   "outputs": [
    {
     "name": "stdout",
     "output_type": "stream",
     "text": [
      "Created 12 chunks from 4 documents.\n",
      "\n",
      "Example Chunk\n",
      "Content Artificial intelligence (AI) refers to the simulation of human intelligence in machines that are programmed to think, learn, and act like humans. AI can be used for a wide range of applications, including natural language processing, computer vision, robotics, and more.\n",
      "        There are two main types of AI: narrow or weak AI, which is designed to perform specific tasks, and general or strong AI, which is capable of performing any intellectual task that a human can do. Narrow AI is\n",
      "Metadata {'source': 'AI Indtroduction', 'page': 1, 'topic': 'AI'}\n"
     ]
    }
   ],
   "source": [
    "## Initialize the text splitter\n",
    "text_splitter = RecursiveCharacterTextSplitter(\n",
    "    chunk_size=500,\n",
    "    chunk_overlap=2,\n",
    "    length_function=len,\n",
    "    separators=[\" \"]\n",
    ")\n",
    "\n",
    "## Splite the text\n",
    "chunks = text_splitter.split_documents(sample_documents)\n",
    "\n",
    "print(f\"Created {len(chunks)} chunks from {len(sample_documents)} documents.\")\n",
    "print(\"\\nExample Chunk\")\n",
    "print(f\"Content {chunks[0].page_content}\")\n",
    "print(f\"Metadata {chunks[0].metadata}\")"
   ]
  },
  {
   "cell_type": "code",
   "execution_count": 5,
   "id": "b2cf77ec",
   "metadata": {},
   "outputs": [],
   "source": [
    "### Load the embedding model\n",
    "\n",
    "embeddings = HuggingFaceEndpointEmbeddings(\n",
    "    model=\"http://localhost:8080\",\n",
    "    provider=\"Privat\"\n",
    ")\n",
    "\n",
    "## Emaple: create embedding for a single text\n",
    "sample_text = \"What is machine learning\"\n",
    "sample_embedding = embeddings.embed_query(sample_text)"
   ]
  },
  {
   "cell_type": "code",
   "execution_count": null,
   "id": "fe2b29e1",
   "metadata": {},
   "outputs": [],
   "source": [
    "texts=[\"AI\", \"Machine learning\", \"Deep Learning\", \"Neural Networks\"]\n",
    "batch_embeddings = embeddings.embed_documents(texts)\n",
    "batch_embeddings"
   ]
  },
  {
   "cell_type": "code",
   "execution_count": 7,
   "id": "3c2b8e7b",
   "metadata": {},
   "outputs": [],
   "source": [
    "## Compare Embeddings using cosine similarty\n",
    "def compare_embeddings(text1, text2):\n",
    "    \"\"\"Compare semantic similarity of two texts using embeddings\"\"\"\n",
    "    \n",
    "    emb1=np.array(embeddings.embed_query(text1))\n",
    "    emb2=np.array(embeddings.embed_query(text2))\n",
    "    \n",
    "    similarity = np.dot(emb1, emb2) / (np.linalg.norm(emb1) * np.linalg.norm(emb2))\n",
    "    \n",
    "    return similarity"
   ]
  },
  {
   "cell_type": "code",
   "execution_count": 8,
   "id": "f30351b3",
   "metadata": {},
   "outputs": [
    {
     "name": "stdout",
     "output_type": "stream",
     "text": [
      "\n",
      "Semantic Similarity Exmaples:\n",
      "'AI' vs 'Artificial Intelligence': 0.793\n"
     ]
    }
   ],
   "source": [
    "### Test semantic similarity\n",
    "print(\"\\nSemantic Similarity Exmaples:\")\n",
    "print(f\"'AI' vs 'Artificial Intelligence': {compare_embeddings('AI', 'Artificial Intelligence'):.3f}\")"
   ]
  },
  {
   "cell_type": "code",
   "execution_count": 9,
   "id": "94c29f4d",
   "metadata": {},
   "outputs": [
    {
     "name": "stdout",
     "output_type": "stream",
     "text": [
      "Vectorestore created with 12 vectors\n"
     ]
    }
   ],
   "source": [
    "### Create FAISS Vectorestore\n",
    "vectorstore = FAISS.from_documents(\n",
    "    documents=chunks,\n",
    "    embedding=embeddings    \n",
    ")\n",
    "\n",
    "print(f\"Vectorestore created with {vectorstore.index.ntotal} vectors\")"
   ]
  },
  {
   "cell_type": "code",
   "execution_count": 10,
   "id": "d576b550",
   "metadata": {},
   "outputs": [],
   "source": [
    "## Save vectorestore for later use\n",
    "vectorstore.save_local(\"faiss_index\")"
   ]
  },
  {
   "cell_type": "code",
   "execution_count": 11,
   "id": "1df18271",
   "metadata": {},
   "outputs": [
    {
     "name": "stdout",
     "output_type": "stream",
     "text": [
      "Vectorestore created with 12 vectors\n"
     ]
    }
   ],
   "source": [
    "## Load vectorestore\n",
    "loaded_vectorstore = FAISS.load_local(\n",
    "    \"faiss_index\", \n",
    "    embeddings=embeddings, \n",
    "    allow_dangerous_deserialization=True\n",
    ")\n",
    "\n",
    "print(f\"Vectorestore created with {loaded_vectorstore.index.ntotal} vectors\")"
   ]
  },
  {
   "cell_type": "code",
   "execution_count": 12,
   "id": "6002ff6e",
   "metadata": {},
   "outputs": [
    {
     "data": {
      "text/plain": [
       "[Document(id='ae664a2b-f328-465f-8c2b-05f9fb281bc8', metadata={'source': 'Deep Learning', 'page': 1, 'topic': 'DL'}, page_content='Deep learning refers to a subset of machine learning that uses neural networks to learn from data. Neural networks are composed of layers of interconnected nodes or neurons, which process and transmit information through the network.\\n        There are two main types of neural networks: feedforward and recurrent. Feedforward neural networks are used for tasks like image recognition and natural language processing, while recurrent neural networks (RNNs) are used for tasks like speech'),\n",
       " Document(id='7ae601b0-a7c7-4379-8630-621bc2e6d741', metadata={'source': 'NLP Overview', 'page': 1, 'topic': 'NLP'}, page_content=\"improve their performance over time. Deep learning is a subset of machine learning that uses neural networks to learn from data. Computational linguistics involves studying the structure and properties of natural language.\\n        One of the key challenges in developing NLP systems is ensuring that they are accurate and reliable. This includes addressing issues like ambiguity, sarcasm, and context sensitivity. As NLP becomes more advanced, it's important to consider how it will impact society\"),\n",
       " Document(id='803e0d7d-efde-4d38-b837-170c4df6d039', metadata={'source': 'Deep Learning', 'page': 1, 'topic': 'DL'}, page_content=\"recognition and time series analysis.\\n        One of the key challenges in developing deep learning models is ensuring that they are accurate and reliable. This includes addressing issues like overfitting, underfitting, and bias. As deep learning becomes more advanced, it's important to consider how it will impact society and ensure that it is used for positive purposes.\\n        Overall, deep learning has the potential to revolutionize many industries and improve our lives in countless ways.\"),\n",
       " Document(id='adb37392-2fbd-4877-a6b9-8c37abeabed9', metadata={'source': 'ML Basiscs', 'page': 1, 'topic': 'ML'}, page_content='Machine learning (ML) refers to the process of building algorithms that can learn from data and improve their performance over time. ML is a subset of AI and is used in a wide range of applications, including image recognition, natural language processing, fraud detection, and more.\\n        There are two main types of machine learning: supervised and unsupervised. Supervised learning involves training the algorithm on labeled data, where each input-output pair is known. Unsupervised'),\n",
       " Document(id='24b9512e-a7be-414f-963f-5ed89ad02e19', metadata={'source': 'NLP Overview', 'page': 1, 'topic': 'NLP'}, page_content='Natural language processing (NLP) refers to the field of computer science that focuses on the interactions between computers and human languages. NLP involves developing algorithms and models that can process and analyze natural language data, such as text, speech, and images.\\n        There are several subfields within NLP, including machine learning, deep learning, and computational linguistics. Machine learning techniques are used to develop models that can learn from labeled data and')]"
      ]
     },
     "execution_count": 12,
     "metadata": {},
     "output_type": "execute_result"
    }
   ],
   "source": [
    "## Similarity search\n",
    "query = \"What is deep learning?\"\n",
    "result = loaded_vectorstore.similarity_search(query, k=5)\n",
    "result\n"
   ]
  },
  {
   "cell_type": "code",
   "execution_count": 13,
   "id": "8fc62a9d",
   "metadata": {},
   "outputs": [
    {
     "name": "stdout",
     "output_type": "stream",
     "text": [
      "Query: What is deep learning?\n",
      "Top 3 similar chunks:\n",
      "\n",
      "1. Source: Deep Learning\n",
      "   Content: Deep learning refers to a subset of machine learning that uses neural networks to learn from data. Neural networks are composed of layers of interconnected nodes or neurons, which process and transmit...\n",
      "\n",
      "2. Source: NLP Overview\n",
      "   Content: improve their performance over time. Deep learning is a subset of machine learning that uses neural networks to learn from data. Computational linguistics involves studying the structure and propertie...\n",
      "\n",
      "3. Source: Deep Learning\n",
      "   Content: recognition and time series analysis.\n",
      "        One of the key challenges in developing deep learning models is ensuring that they are accurate and reliable. This includes addressing issues like overfit...\n"
     ]
    }
   ],
   "source": [
    "print(f\"Query: {query}\")\n",
    "print(\"Top 3 similar chunks:\")\n",
    "for i, doc in enumerate(result):\n",
    "    print(f\"\\n{i+1}. Source: {doc.metadata['source']}\")\n",
    "    print(f\"   Content: {doc.page_content[:200]}...\")\n",
    "    if i == 2:\n",
    "        break"
   ]
  },
  {
   "cell_type": "code",
   "execution_count": 14,
   "id": "2db19d30",
   "metadata": {},
   "outputs": [
    {
     "name": "stdout",
     "output_type": "stream",
     "text": [
      "\n",
      "\n",
      "Similarity search with scores:\n",
      "\n",
      "Score: 0.592\n",
      "Source: Deep Learning\n",
      "Content preview: Deep learning refers to a subset of machine learning that uses neural networks to learn from data. N...\n",
      "\n",
      "Score: 0.737\n",
      "Source: NLP Overview\n",
      "Content preview: improve their performance over time. Deep learning is a subset of machine learning that uses neural ...\n",
      "\n",
      "Score: 0.811\n",
      "Source: Deep Learning\n",
      "Content preview: recognition and time series analysis.\n",
      "        One of the key challenges in developing deep learning ...\n"
     ]
    }
   ],
   "source": [
    "### Similarity Search with score\n",
    "results_with_scores = vectorstore.similarity_search_with_score(query, k=3)\n",
    "\n",
    "print(\"\\n\\nSimilarity search with scores:\")\n",
    "for doc, score in results_with_scores:\n",
    "    print(f\"\\nScore: {score:.3f}\")\n",
    "    print(f\"Source: {doc.metadata['source']}\")\n",
    "    print(f\"Content preview: {doc.page_content[:100]}...\")"
   ]
  },
  {
   "cell_type": "code",
   "execution_count": 15,
   "id": "c50c129d",
   "metadata": {},
   "outputs": [
    {
     "name": "stdout",
     "output_type": "stream",
     "text": [
      "[Document(id='adb37392-2fbd-4877-a6b9-8c37abeabed9', metadata={'source': 'ML Basiscs', 'page': 1, 'topic': 'ML'}, page_content='Machine learning (ML) refers to the process of building algorithms that can learn from data and improve their performance over time. ML is a subset of AI and is used in a wide range of applications, including image recognition, natural language processing, fraud detection, and more.\\n        There are two main types of machine learning: supervised and unsupervised. Supervised learning involves training the algorithm on labeled data, where each input-output pair is known. Unsupervised'), Document(id='ebd6cac3-7516-4b56-91b0-f90f29f30285', metadata={'source': 'ML Basiscs', 'page': 1, 'topic': 'ML'}, page_content=\"learning involves training the algorithm on unlabeled data, where only the inputs are known.\\n        One of the key challenges in developing ML algorithms is ensuring that they are accurate and reliable. This includes addressing issues like overfitting, underfitting, and bias. As ML becomes more advanced, it's important to consider how it will impact society and ensure that it is used for positive purposes.\\n        Overall, machine learning has the potential to revolutionize many industries and\"), Document(id='2aa1eed4-a9cd-47a1-8701-dbe67ee583b7', metadata={'source': 'ML Basiscs', 'page': 1, 'topic': 'ML'}, page_content=\"improve our lives in countless ways. However, it's important to approach its development with caution and ensure that it is used responsibly and ethically.\")]\n"
     ]
    }
   ],
   "source": [
    "### Search with filter\n",
    "filter_dict = {\"topic\":\"ML\"}\n",
    "filtered_results = vectorstore.similarity_search(\n",
    "    query,\n",
    "    k=3,\n",
    "    filter=filter_dict\n",
    ")\n",
    "\n",
    "print(filtered_results)"
   ]
  },
  {
   "cell_type": "markdown",
   "id": "793df695",
   "metadata": {},
   "source": [
    "## Build the RAG Chain"
   ]
  },
  {
   "cell_type": "code",
   "execution_count": 16,
   "id": "d77944fb",
   "metadata": {},
   "outputs": [
    {
     "data": {
      "text/plain": [
       "ChatOllama(model='gemma2:9b-instruct-q4_K_M')"
      ]
     },
     "execution_count": 16,
     "metadata": {},
     "output_type": "execute_result"
    }
   ],
   "source": [
    "from langchain_ollama import ChatOllama\n",
    "\n",
    "llm = ChatOllama(model=\"gemma2:9b-instruct-q4_K_M\")\n",
    "llm"
   ]
  },
  {
   "cell_type": "code",
   "execution_count": null,
   "id": "2080651b",
   "metadata": {},
   "outputs": [
    {
     "data": {
      "text/plain": [
       "ChatPromptTemplate(input_variables=['context', 'question'], input_types={}, partial_variables={}, messages=[HumanMessagePromptTemplate(prompt=PromptTemplate(input_variables=['context', 'question'], input_types={}, partial_variables={}, template='Answer the question based only on the following context:\\n    Context: {context}\\n\\n    Question: {question}\\n    '), additional_kwargs={})])"
      ]
     },
     "execution_count": 17,
     "metadata": {},
     "output_type": "execute_result"
    }
   ],
   "source": [
    "# 1. Simple RAG Chain with LCEL\n",
    "simple_prompt = ChatPromptTemplate.from_template(\n",
    "    \"\"\"Answer the question based only on the following context:\n",
    "    Context: {context}\n",
    "    \n",
    "    Question: {question}\n",
    "    \"\"\"\n",
    ")\n",
    "simple_prompt"
   ]
  },
  {
   "cell_type": "code",
   "execution_count": 21,
   "id": "d41865a9",
   "metadata": {},
   "outputs": [],
   "source": [
    "## Basic retriever\n",
    "retriever = vectorstore.as_retriever(\n",
    "    search_type=\"similarity\",\n",
    "    searach_kwargs={'k':2}\n",
    ")"
   ]
  },
  {
   "cell_type": "code",
   "execution_count": 23,
   "id": "acd14a51",
   "metadata": {},
   "outputs": [],
   "source": [
    "from typing import List\n",
    "\n",
    "# format documents for the prompt\n",
    "def format_docs(docs: List[Document]) -> str:\n",
    "    \"\"\"Format documents for insertion into prompts\"\"\"\n",
    "    formatted = []\n",
    "    for i, doc in enumerate(docs):\n",
    "        source = doc.metadata.get('source', 'unknown')\n",
    "        formatted.append(f\"Document {i+1} (Source: {source}:\\n{doc.page_content})\")\n",
    "    return \"\\n\\n\".join(formatted)"
   ]
  },
  {
   "cell_type": "code",
   "execution_count": 26,
   "id": "ac4a6295",
   "metadata": {},
   "outputs": [],
   "source": [
    "simple_rag_chain=(\n",
    "    {\"context\": retriever | format_docs, \"question\": RunnablePassthrough() }\n",
    "    | simple_prompt\n",
    "    | llm\n",
    "    | StrOutputParser()\n",
    ")"
   ]
  },
  {
   "cell_type": "code",
   "execution_count": 27,
   "id": "f659d1cc",
   "metadata": {},
   "outputs": [
    {
     "data": {
      "text/plain": [
       "{\n",
       "  context: VectorStoreRetriever(tags=['FAISS', 'HuggingFaceEndpointEmbeddings'], vectorstore=<langchain_community.vectorstores.faiss.FAISS object at 0x7546248031a0>, search_kwargs={})\n",
       "           | RunnableLambda(format_docs),\n",
       "  question: RunnablePassthrough()\n",
       "}\n",
       "| ChatPromptTemplate(input_variables=['context', 'question'], input_types={}, partial_variables={}, messages=[HumanMessagePromptTemplate(prompt=PromptTemplate(input_variables=['context', 'question'], input_types={}, partial_variables={}, template='Answer the question based only on the following context:\\n    Context: {context}\\n\\n    Question: {question}\\n    '), additional_kwargs={})])\n",
       "| ChatOllama(model='gemma2:9b-instruct-q4_K_M')\n",
       "| StrOutputParser()"
      ]
     },
     "execution_count": 27,
     "metadata": {},
     "output_type": "execute_result"
    }
   ],
   "source": [
    "simple_rag_chain"
   ]
  },
  {
   "cell_type": "code",
   "execution_count": 28,
   "id": "1e3ccdc0",
   "metadata": {},
   "outputs": [],
   "source": [
    "### Conversational RAG Chain\n",
    "conversational_prompt = ChatPromptTemplate.from_messages([\n",
    "    (\"system\", \"You are a helpful AI assistant. Use the provided context to answer questions\"),\n",
    "    (\"placeholder\", \"{chat_history}\"),\n",
    "    (\"human\", \"Context: {context}\\n\\nQuestion: {input}\")\n",
    "])"
   ]
  },
  {
   "cell_type": "code",
   "execution_count": 44,
   "id": "0c179333",
   "metadata": {},
   "outputs": [],
   "source": [
    "def create_conversation_rag():\n",
    "    \"\"\"Create a conversational RAG chain with memory\"\"\"\n",
    "    return (\n",
    "        RunnablePassthrough.assign(\n",
    "            context=lambda x: format_docs(retriever.invoke(x['input']))\n",
    "        )\n",
    "        | conversational_prompt\n",
    "        | llm\n",
    "        | StrOutputParser()\n",
    "    )"
   ]
  },
  {
   "cell_type": "code",
   "execution_count": 42,
   "id": "10470e0d",
   "metadata": {},
   "outputs": [
    {
     "data": {
      "text/plain": [
       "ChatPromptTemplate(input_variables=['context', 'input'], optional_variables=['chat_history'], input_types={'chat_history': list[typing.Annotated[typing.Union[typing.Annotated[langchain_core.messages.ai.AIMessage, Tag(tag='ai')], typing.Annotated[langchain_core.messages.human.HumanMessage, Tag(tag='human')], typing.Annotated[langchain_core.messages.chat.ChatMessage, Tag(tag='chat')], typing.Annotated[langchain_core.messages.system.SystemMessage, Tag(tag='system')], typing.Annotated[langchain_core.messages.function.FunctionMessage, Tag(tag='function')], typing.Annotated[langchain_core.messages.tool.ToolMessage, Tag(tag='tool')], typing.Annotated[langchain_core.messages.ai.AIMessageChunk, Tag(tag='AIMessageChunk')], typing.Annotated[langchain_core.messages.human.HumanMessageChunk, Tag(tag='HumanMessageChunk')], typing.Annotated[langchain_core.messages.chat.ChatMessageChunk, Tag(tag='ChatMessageChunk')], typing.Annotated[langchain_core.messages.system.SystemMessageChunk, Tag(tag='SystemMessageChunk')], typing.Annotated[langchain_core.messages.function.FunctionMessageChunk, Tag(tag='FunctionMessageChunk')], typing.Annotated[langchain_core.messages.tool.ToolMessageChunk, Tag(tag='ToolMessageChunk')]], FieldInfo(annotation=NoneType, required=True, discriminator=Discriminator(discriminator=<function _get_type at 0x75473bfe2d40>, custom_error_type=None, custom_error_message=None, custom_error_context=None))]]}, partial_variables={'chat_history': []}, messages=[SystemMessagePromptTemplate(prompt=PromptTemplate(input_variables=[], input_types={}, partial_variables={}, template='You are a helpful AI assistant. Use the provided context to answer questions'), additional_kwargs={}), MessagesPlaceholder(variable_name='chat_history', optional=True), HumanMessagePromptTemplate(prompt=PromptTemplate(input_variables=['context', 'input'], input_types={}, partial_variables={}, template='Context: {context}\\n\\nQuestion: {input}'), additional_kwargs={})])"
      ]
     },
     "execution_count": 42,
     "metadata": {},
     "output_type": "execute_result"
    }
   ],
   "source": [
    "conversational_prompt"
   ]
  },
  {
   "cell_type": "code",
   "execution_count": 31,
   "id": "c2f6e1c6",
   "metadata": {},
   "outputs": [],
   "source": [
    "### Streaming RAG chain\n",
    "streaimg_rag_chain = (\n",
    "    {\"context\": retriever | format_docs, \"question\": RunnablePassthrough() }\n",
    "    | simple_prompt\n",
    "    | llm\n",
    ")"
   ]
  },
  {
   "cell_type": "code",
   "execution_count": 32,
   "id": "87a3a347",
   "metadata": {},
   "outputs": [
    {
     "name": "stdout",
     "output_type": "stream",
     "text": [
      "Modern RAG chains created successfully!\n",
      "Available chains:\n",
      "- simple_rag_chain: Bassic Q&A\n",
      "- conversational_rag_chain: maintains conversation history\n",
      "- streaming_rag_chain: stream results without StrOutputParser\n"
     ]
    }
   ],
   "source": [
    "print(\"Modern RAG chains created successfully!\")\n",
    "print(\"Available chains:\")\n",
    "print(\"- simple_rag_chain: Bassic Q&A\")\n",
    "print(\"- conversational_rag_chain: maintains conversation history\")\n",
    "print(\"- streaming_rag_chain: stream results without StrOutputParser\")"
   ]
  },
  {
   "cell_type": "code",
   "execution_count": null,
   "id": "98255911",
   "metadata": {},
   "outputs": [],
   "source": [
    "# Test function for diffrerent chain types\n",
    "def test_rag_chains(question: str):\n",
    "    \"\"\"Test all RAG chain variants\"\"\"\n",
    "    print(f\"Question: {question}\")\n",
    "    print(\"=\" * 80)\n",
    "    \n",
    "    # 1. Simple RAG Chain\n",
    "    print(\"\\n1. Simple RAG Chain\")\n",
    "    answer = simple_rag_chain.invoke(question)\n",
    "    print(f\"Answer: {answer}\")   \n",
    "    \n",
    "    print(\"\\n2. Streaming RAG\")\n",
    "    print(\"Answer: \", end=\"\", flush=True)\n",
    "    for chunk in streaimg_rag_chain.stream(question):\n",
    "        print(chunk.content, end=\"\", flush=True)\n",
    "    print()\n",
    "    "
   ]
  },
  {
   "cell_type": "code",
   "execution_count": null,
   "id": "4cbc6a37",
   "metadata": {},
   "outputs": [],
   "source": [
    "test_rag_chains(\"What is the difference between AI and machine learning?\")"
   ]
  },
  {
   "cell_type": "code",
   "execution_count": null,
   "id": "93a77fa3",
   "metadata": {},
   "outputs": [],
   "source": [
    "# Test with multiple questions\n",
    "test_questions = [\n",
    "    \"What is the difference between AI and ;achine Learning?\",\n",
    "    \"Explain deep learning in simple terms\",\n",
    "    \"How does NPL work?\"\n",
    "]\n",
    "\n",
    "for question in test_questions:\n",
    "    print(\"\\n\" + \"=\" * 80 + \"\\n\")\n",
    "    test_rag_chains(question)"
   ]
  },
  {
   "cell_type": "code",
   "execution_count": 46,
   "id": "7902b7f7",
   "metadata": {},
   "outputs": [
    {
     "name": "stdout",
     "output_type": "stream",
     "text": [
      "\n",
      "3. Conversational RAG example:\n"
     ]
    }
   ],
   "source": [
    "## Conversational example\n",
    "print(\"\\n3. Conversational RAG example:\")\n",
    "chat_history = []\n",
    "\n",
    "conversation_rag = create_conversation_rag()\n",
    "\n",
    "q1 = \"What is machine learning?\"\n",
    "a1 = conversation_rag.invoke({\n",
    "    \"input\": q1,\n",
    "    \"chat_history\": chat_history\n",
    "})\n",
    "\n",
    "chat_history.extend([\n",
    "    HumanMessage(content=q1),\n",
    "    AIMessage(content=a1)\n",
    "])\n"
   ]
  },
  {
   "cell_type": "code",
   "execution_count": null,
   "id": "2e9b8e5d",
   "metadata": {},
   "outputs": [],
   "source": []
  }
 ],
 "metadata": {
  "kernelspec": {
   "display_name": ".venv",
   "language": "python",
   "name": "python3"
  },
  "language_info": {
   "codemirror_mode": {
    "name": "ipython",
    "version": 3
   },
   "file_extension": ".py",
   "mimetype": "text/x-python",
   "name": "python",
   "nbconvert_exporter": "python",
   "pygments_lexer": "ipython3",
   "version": "3.12.3"
  }
 },
 "nbformat": 4,
 "nbformat_minor": 5
}
