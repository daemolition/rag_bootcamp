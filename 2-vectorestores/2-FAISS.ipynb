{
 "cells": [
  {
   "cell_type": "code",
   "execution_count": 1,
   "id": "e4e4dfd1",
   "metadata": {},
   "outputs": [
    {
     "data": {
      "text/plain": [
       "True"
      ]
     },
     "execution_count": 1,
     "metadata": {},
     "output_type": "execute_result"
    }
   ],
   "source": [
    "import os\n",
    "from dotenv import load_dotenv\n",
    "import numpy as np\n",
    "from typing import List, Dict, Any, Optional\n",
    "import warnings\n",
    "warnings.filterwarnings(\"ignore\")\n",
    "\n",
    "from langchain_core.documents import Document\n",
    "from langchain_core.prompts import ChatPromptTemplate, PromptTemplate\n",
    "from langchain_core.runnables import RunnablePassthrough\n",
    "from langchain_core.output_parsers import StrOutputParser\n",
    "from langchain_core.messages import HumanMessage, AIMessage\n",
    "\n",
    "from langchain_text_splitters import RecursiveCharacterTextSplitter\n",
    "from langchain_ollama import ChatOllama\n",
    "from langchain_huggingface import HuggingFaceEndpointEmbeddings\n",
    "from langchain_community.document_loaders import TextLoader, PyPDFLoader\n",
    "from langchain_community.vectorstores import FAISS\n",
    "from langchain.chains import create_retrieval_chain\n",
    "from langchain.chains.combine_documents import create_stuff_documents_chain\n",
    "\n",
    "load_dotenv()"
   ]
  },
  {
   "cell_type": "code",
   "execution_count": 2,
   "id": "50709a9d",
   "metadata": {},
   "outputs": [],
   "source": [
    "## Data ingestion and processing\n",
    "sample_documents=[\n",
    "    Document(\n",
    "        page_content=\"\"\"\n",
    "        Artificial intelligence (AI) refers to the simulation of human intelligence in machines that are programmed to think, learn, and act like humans. AI can be used for a wide range of applications, including natural language processing, computer vision, robotics, and more.\n",
    "        There are two main types of AI: narrow or weak AI, which is designed to perform specific tasks, and general or strong AI, which is capable of performing any intellectual task that a human can do. Narrow AI is often used in applications like voice assistants, recommendation systems, and image recognition, while general AI is still the subject of ongoing research.\n",
    "        One of the key challenges in developing AI is ensuring that it is safe and ethical to use. This includes addressing issues like bias, privacy, and accountability. As AI becomes more advanced, it's important to consider how it will impact society and ensure that it is used for positive purposes.\n",
    "        Overall, AI has the potential to revolutionize many industries and improve our lives in countless ways. However, it's important to approach its development with caution and ensure that it is used responsibly and ethically.\n",
    "        \"\"\",\n",
    "        metadata={\"source\": \"AI Indtroduction\", \"page\": 1, \"topic\": \"AI\"}\n",
    "    ),\n",
    "    Document(\n",
    "        page_content=\"\"\"\n",
    "        Machine learning (ML) refers to the process of building algorithms that can learn from data and improve their performance over time. ML is a subset of AI and is used in a wide range of applications, including image recognition, natural language processing, fraud detection, and more.\n",
    "        There are two main types of machine learning: supervised and unsupervised. Supervised learning involves training the algorithm on labeled data, where each input-output pair is known. Unsupervised learning involves training the algorithm on unlabeled data, where only the inputs are known.\n",
    "        One of the key challenges in developing ML algorithms is ensuring that they are accurate and reliable. This includes addressing issues like overfitting, underfitting, and bias. As ML becomes more advanced, it's important to consider how it will impact society and ensure that it is used for positive purposes.\n",
    "        Overall, machine learning has the potential to revolutionize many industries and improve our lives in countless ways. However, it's important to approach its development with caution and ensure that it is used responsibly and ethically.\n",
    "        \"\"\",\n",
    "        metadata={\"source\":\"ML Basiscs\", \"page\": 1, \"topic\": \"ML\"}\n",
    "    ),\n",
    "    Document(\n",
    "        page_content=\"\"\"\n",
    "        Deep learning refers to a subset of machine learning that uses neural networks to learn from data. Neural networks are composed of layers of interconnected nodes or neurons, which process and transmit information through the network.\n",
    "        There are two main types of neural networks: feedforward and recurrent. Feedforward neural networks are used for tasks like image recognition and natural language processing, while recurrent neural networks (RNNs) are used for tasks like speech recognition and time series analysis.\n",
    "        One of the key challenges in developing deep learning models is ensuring that they are accurate and reliable. This includes addressing issues like overfitting, underfitting, and bias. As deep learning becomes more advanced, it's important to consider how it will impact society and ensure that it is used for positive purposes.\n",
    "        Overall, deep learning has the potential to revolutionize many industries and improve our lives in countless ways. However, it's important to approach its development with caution and ensure that it is used responsibly and ethically.\n",
    "        \"\"\",\n",
    "        metadata={\"source\":\"Deep Learning\", \"page\": 1, \"topic\": \"DL\"}\n",
    "    ),\n",
    "    Document(\n",
    "        page_content=\"\"\"\n",
    "        Natural language processing (NLP) refers to the field of computer science that focuses on the interactions between computers and human languages. NLP involves developing algorithms and models that can process and analyze natural language data, such as text, speech, and images.\n",
    "        There are several subfields within NLP, including machine learning, deep learning, and computational linguistics. Machine learning techniques are used to develop models that can learn from labeled data and improve their performance over time. Deep learning is a subset of machine learning that uses neural networks to learn from data. Computational linguistics involves studying the structure and properties of natural language.\n",
    "        One of the key challenges in developing NLP systems is ensuring that they are accurate and reliable. This includes addressing issues like ambiguity, sarcasm, and context sensitivity. As NLP becomes more advanced, it's important to consider how it will impact society and ensure that it is used for positive purposes.\n",
    "        Overall, NLP has the potential to revolutionize many industries and improve our lives in countless ways. However, it's important to approach its development with caution and ensure that it is used responsibly and ethically.\n",
    "        \"\"\",\n",
    "        metadata={\"source\": \"NLP Overview\", \"page\": 1, \"topic\": \"NLP\"}\n",
    "    )\n",
    "]"
   ]
  },
  {
   "cell_type": "code",
   "execution_count": 3,
   "id": "96acd2e8",
   "metadata": {},
   "outputs": [
    {
     "data": {
      "text/plain": [
       "[Document(metadata={'source': 'AI Indtroduction', 'page': 1, 'topic': 'AI'}, page_content=\"\\n        Artificial intelligence (AI) refers to the simulation of human intelligence in machines that are programmed to think, learn, and act like humans. AI can be used for a wide range of applications, including natural language processing, computer vision, robotics, and more.\\n        There are two main types of AI: narrow or weak AI, which is designed to perform specific tasks, and general or strong AI, which is capable of performing any intellectual task that a human can do. Narrow AI is often used in applications like voice assistants, recommendation systems, and image recognition, while general AI is still the subject of ongoing research.\\n        One of the key challenges in developing AI is ensuring that it is safe and ethical to use. This includes addressing issues like bias, privacy, and accountability. As AI becomes more advanced, it's important to consider how it will impact society and ensure that it is used for positive purposes.\\n        Overall, AI has the potential to revolutionize many industries and improve our lives in countless ways. However, it's important to approach its development with caution and ensure that it is used responsibly and ethically.\\n        \"),\n",
       " Document(metadata={'source': 'ML Basiscs', 'page': 1, 'topic': 'ML'}, page_content=\"\\n        Machine learning (ML) refers to the process of building algorithms that can learn from data and improve their performance over time. ML is a subset of AI and is used in a wide range of applications, including image recognition, natural language processing, fraud detection, and more.\\n        There are two main types of machine learning: supervised and unsupervised. Supervised learning involves training the algorithm on labeled data, where each input-output pair is known. Unsupervised learning involves training the algorithm on unlabeled data, where only the inputs are known.\\n        One of the key challenges in developing ML algorithms is ensuring that they are accurate and reliable. This includes addressing issues like overfitting, underfitting, and bias. As ML becomes more advanced, it's important to consider how it will impact society and ensure that it is used for positive purposes.\\n        Overall, machine learning has the potential to revolutionize many industries and improve our lives in countless ways. However, it's important to approach its development with caution and ensure that it is used responsibly and ethically.\\n        \"),\n",
       " Document(metadata={'source': 'Deep Learning', 'page': 1, 'topic': 'DL'}, page_content=\"\\n        Deep learning refers to a subset of machine learning that uses neural networks to learn from data. Neural networks are composed of layers of interconnected nodes or neurons, which process and transmit information through the network.\\n        There are two main types of neural networks: feedforward and recurrent. Feedforward neural networks are used for tasks like image recognition and natural language processing, while recurrent neural networks (RNNs) are used for tasks like speech recognition and time series analysis.\\n        One of the key challenges in developing deep learning models is ensuring that they are accurate and reliable. This includes addressing issues like overfitting, underfitting, and bias. As deep learning becomes more advanced, it's important to consider how it will impact society and ensure that it is used for positive purposes.\\n        Overall, deep learning has the potential to revolutionize many industries and improve our lives in countless ways. However, it's important to approach its development with caution and ensure that it is used responsibly and ethically.\\n        \"),\n",
       " Document(metadata={'source': 'NLP Overview', 'page': 1, 'topic': 'NLP'}, page_content=\"\\n        Natural language processing (NLP) refers to the field of computer science that focuses on the interactions between computers and human languages. NLP involves developing algorithms and models that can process and analyze natural language data, such as text, speech, and images.\\n        There are several subfields within NLP, including machine learning, deep learning, and computational linguistics. Machine learning techniques are used to develop models that can learn from labeled data and improve their performance over time. Deep learning is a subset of machine learning that uses neural networks to learn from data. Computational linguistics involves studying the structure and properties of natural language.\\n        One of the key challenges in developing NLP systems is ensuring that they are accurate and reliable. This includes addressing issues like ambiguity, sarcasm, and context sensitivity. As NLP becomes more advanced, it's important to consider how it will impact society and ensure that it is used for positive purposes.\\n        Overall, NLP has the potential to revolutionize many industries and improve our lives in countless ways. However, it's important to approach its development with caution and ensure that it is used responsibly and ethically.\\n        \")]"
      ]
     },
     "execution_count": 3,
     "metadata": {},
     "output_type": "execute_result"
    }
   ],
   "source": [
    "sample_documents"
   ]
  },
  {
   "cell_type": "markdown",
   "id": "8feb33a9",
   "metadata": {},
   "source": [
    "### Text splitting"
   ]
  },
  {
   "cell_type": "code",
   "execution_count": 13,
   "id": "693a3c59",
   "metadata": {},
   "outputs": [
    {
     "name": "stdout",
     "output_type": "stream",
     "text": [
      "Created 12 chunks from 4 documents.\n",
      "\n",
      "Example Chunk\n",
      "Content Artificial intelligence (AI) refers to the simulation of human intelligence in machines that are programmed to think, learn, and act like humans. AI can be used for a wide range of applications, including natural language processing, computer vision, robotics, and more.\n",
      "        There are two main types of AI: narrow or weak AI, which is designed to perform specific tasks, and general or strong AI, which is capable of performing any intellectual task that a human can do. Narrow AI is\n",
      "Metadata {'source': 'AI Indtroduction', 'page': 1, 'topic': 'AI'}\n"
     ]
    }
   ],
   "source": [
    "## Initialize the text splitter\n",
    "text_splitter = RecursiveCharacterTextSplitter(\n",
    "    chunk_size=500,\n",
    "    chunk_overlap=2,\n",
    "    length_function=len,\n",
    "    separators=[\" \"]\n",
    ")\n",
    "\n",
    "## Splite the text\n",
    "chunks = text_splitter.split_documents(sample_documents)\n",
    "\n",
    "print(f\"Created {len(chunks)} chunks from {len(sample_documents)} documents.\")\n",
    "print(\"\\nExample Chunk\")\n",
    "print(f\"Content {chunks[0].page_content}\")\n",
    "print(f\"Metadata {chunks[0].metadata}\")"
   ]
  },
  {
   "cell_type": "code",
   "execution_count": 18,
   "id": "b2cf77ec",
   "metadata": {},
   "outputs": [],
   "source": [
    "### Load the embedding model\n",
    "\n",
    "embeddings = HuggingFaceEndpointEmbeddings(\n",
    "    model=\"http://localhost:8080\",\n",
    "    provider=\"Privat\"\n",
    ")\n",
    "\n",
    "## Emaple: create embedding for a single text\n",
    "sample_text = \"What is machine learning\"\n",
    "sample_embedding = embeddings.embed_query(sample_text)"
   ]
  },
  {
   "cell_type": "code",
   "execution_count": null,
   "id": "fe2b29e1",
   "metadata": {},
   "outputs": [],
   "source": [
    "texts=[\"AI\", \"Machine learning\", \"Deep Learning\", \"Neural Networks\"]\n",
    "batch_embeddings = embeddings.embed_documents(texts)\n",
    "batch_embeddings"
   ]
  },
  {
   "cell_type": "code",
   "execution_count": 24,
   "id": "3c2b8e7b",
   "metadata": {},
   "outputs": [],
   "source": [
    "## Compare Embeddings using cosine similarty\n",
    "def compare_embeddings(text1, text2):\n",
    "    \"\"\"Compare semantic similarity of two texts using embeddings\"\"\"\n",
    "    \n",
    "    emb1=np.array(embeddings.embed_query(text1))\n",
    "    emb2=np.array(embeddings.embed_query(text2))\n",
    "    \n",
    "    similarity = np.dot(emb1, emb2) / (np.linalg.norm(emb1) * np.linalg.norm(emb2))\n",
    "    \n",
    "    return similarity"
   ]
  },
  {
   "cell_type": "code",
   "execution_count": 25,
   "id": "f30351b3",
   "metadata": {},
   "outputs": [
    {
     "name": "stdout",
     "output_type": "stream",
     "text": [
      "\n",
      "Semantic Similarity Exmaples:\n",
      "'AI' vs 'Artificial Intelligence': 0.793\n"
     ]
    }
   ],
   "source": [
    "### Test semantic similarity\n",
    "print(\"\\nSemantic Similarity Exmaples:\")\n",
    "print(f\"'AI' vs 'Artificial Intelligence': {compare_embeddings('AI', 'Artificial Intelligence'):.3f}\")"
   ]
  },
  {
   "cell_type": "code",
   "execution_count": 26,
   "id": "94c29f4d",
   "metadata": {},
   "outputs": [
    {
     "name": "stdout",
     "output_type": "stream",
     "text": [
      "Vectorestore created with 12 vectors\n"
     ]
    }
   ],
   "source": [
    "### Create FAISS Vectorestore\n",
    "vectorstore = FAISS.from_documents(\n",
    "    documents=chunks,\n",
    "    embedding=embeddings    \n",
    ")\n",
    "\n",
    "print(f\"Vectorestore created with {vectorstore.index.ntotal} vectors\")"
   ]
  },
  {
   "cell_type": "code",
   "execution_count": 28,
   "id": "d576b550",
   "metadata": {},
   "outputs": [],
   "source": [
    "## Save vectorestore for later use\n",
    "vectorstore.save_local(\"faiss_index\")"
   ]
  },
  {
   "cell_type": "code",
   "execution_count": 30,
   "id": "1df18271",
   "metadata": {},
   "outputs": [
    {
     "name": "stdout",
     "output_type": "stream",
     "text": [
      "Vectorestore created with 12 vectors\n"
     ]
    }
   ],
   "source": [
    "## Load vectorestore\n",
    "loaded_vectorstore = FAISS.load_local(\n",
    "    \"faiss_index\", \n",
    "    embeddings=embeddings, \n",
    "    allow_dangerous_deserialization=True\n",
    ")\n",
    "\n",
    "print(f\"Vectorestore created with {loaded_vectorstore.index.ntotal} vectors\")"
   ]
  },
  {
   "cell_type": "code",
   "execution_count": 31,
   "id": "6002ff6e",
   "metadata": {},
   "outputs": [
    {
     "data": {
      "text/plain": [
       "[Document(id='ddb3621e-f4c8-405c-9229-4e04110aa3e6', metadata={'source': 'Deep Learning', 'page': 1, 'topic': 'DL'}, page_content='Deep learning refers to a subset of machine learning that uses neural networks to learn from data. Neural networks are composed of layers of interconnected nodes or neurons, which process and transmit information through the network.\\n        There are two main types of neural networks: feedforward and recurrent. Feedforward neural networks are used for tasks like image recognition and natural language processing, while recurrent neural networks (RNNs) are used for tasks like speech'),\n",
       " Document(id='95a61eb0-b2c2-43fe-bf89-5a716ae56ea4', metadata={'source': 'NLP Overview', 'page': 1, 'topic': 'NLP'}, page_content=\"improve their performance over time. Deep learning is a subset of machine learning that uses neural networks to learn from data. Computational linguistics involves studying the structure and properties of natural language.\\n        One of the key challenges in developing NLP systems is ensuring that they are accurate and reliable. This includes addressing issues like ambiguity, sarcasm, and context sensitivity. As NLP becomes more advanced, it's important to consider how it will impact society\"),\n",
       " Document(id='80b1968e-5a62-47d8-9b62-c6d428395304', metadata={'source': 'Deep Learning', 'page': 1, 'topic': 'DL'}, page_content=\"recognition and time series analysis.\\n        One of the key challenges in developing deep learning models is ensuring that they are accurate and reliable. This includes addressing issues like overfitting, underfitting, and bias. As deep learning becomes more advanced, it's important to consider how it will impact society and ensure that it is used for positive purposes.\\n        Overall, deep learning has the potential to revolutionize many industries and improve our lives in countless ways.\"),\n",
       " Document(id='e41407df-39a5-406f-ab20-769e8ff4d1a5', metadata={'source': 'ML Basiscs', 'page': 1, 'topic': 'ML'}, page_content='Machine learning (ML) refers to the process of building algorithms that can learn from data and improve their performance over time. ML is a subset of AI and is used in a wide range of applications, including image recognition, natural language processing, fraud detection, and more.\\n        There are two main types of machine learning: supervised and unsupervised. Supervised learning involves training the algorithm on labeled data, where each input-output pair is known. Unsupervised'),\n",
       " Document(id='68b2ff3a-8f74-409e-845d-e59490404ac9', metadata={'source': 'NLP Overview', 'page': 1, 'topic': 'NLP'}, page_content='Natural language processing (NLP) refers to the field of computer science that focuses on the interactions between computers and human languages. NLP involves developing algorithms and models that can process and analyze natural language data, such as text, speech, and images.\\n        There are several subfields within NLP, including machine learning, deep learning, and computational linguistics. Machine learning techniques are used to develop models that can learn from labeled data and')]"
      ]
     },
     "execution_count": 31,
     "metadata": {},
     "output_type": "execute_result"
    }
   ],
   "source": [
    "## Similarity search\n",
    "query = \"What is deep learning?\"\n",
    "result = loaded_vectorstore.similarity_search(query, k=5)\n",
    "result\n"
   ]
  },
  {
   "cell_type": "code",
   "execution_count": 34,
   "id": "8fc62a9d",
   "metadata": {},
   "outputs": [
    {
     "name": "stdout",
     "output_type": "stream",
     "text": [
      "Query: What is deep learning?\n",
      "Top 3 similar chunks:\n",
      "\n",
      "1. Source: Deep Learning\n",
      "   Content: Deep learning refers to a subset of machine learning that uses neural networks to learn from data. Neural networks are composed of layers of interconnected nodes or neurons, which process and transmit...\n",
      "\n",
      "2. Source: NLP Overview\n",
      "   Content: improve their performance over time. Deep learning is a subset of machine learning that uses neural networks to learn from data. Computational linguistics involves studying the structure and propertie...\n",
      "\n",
      "3. Source: Deep Learning\n",
      "   Content: recognition and time series analysis.\n",
      "        One of the key challenges in developing deep learning models is ensuring that they are accurate and reliable. This includes addressing issues like overfit...\n"
     ]
    }
   ],
   "source": [
    "print(f\"Query: {query}\")\n",
    "print(\"Top 3 similar chunks:\")\n",
    "for i, doc in enumerate(result):\n",
    "    print(f\"\\n{i+1}. Source: {doc.metadata['source']}\")\n",
    "    print(f\"   Content: {doc.page_content[:200]}...\")\n",
    "    if i == 2:\n",
    "        break"
   ]
  },
  {
   "cell_type": "code",
   "execution_count": 36,
   "id": "2db19d30",
   "metadata": {},
   "outputs": [
    {
     "name": "stdout",
     "output_type": "stream",
     "text": [
      "\n",
      "\n",
      "Similarity search with scores:\n",
      "\n",
      "Score: 0.592\n",
      "Source: Deep Learning\n",
      "Content preview: Deep learning refers to a subset of machine learning that uses neural networks to learn from data. N...\n",
      "\n",
      "Score: 0.737\n",
      "Source: NLP Overview\n",
      "Content preview: improve their performance over time. Deep learning is a subset of machine learning that uses neural ...\n",
      "\n",
      "Score: 0.811\n",
      "Source: Deep Learning\n",
      "Content preview: recognition and time series analysis.\n",
      "        One of the key challenges in developing deep learning ...\n"
     ]
    }
   ],
   "source": [
    "### Similarity Search with score\n",
    "results_with_scores = vectorstore.similarity_search_with_score(query, k=3)\n",
    "\n",
    "print(\"\\n\\nSimilarity search with scores:\")\n",
    "for doc, score in results_with_scores:\n",
    "    print(f\"\\nScore: {score:.3f}\")\n",
    "    print(f\"Source: {doc.metadata['source']}\")\n",
    "    print(f\"Content preview: {doc.page_content[:100]}...\")"
   ]
  },
  {
   "cell_type": "code",
   "execution_count": 37,
   "id": "c50c129d",
   "metadata": {},
   "outputs": [
    {
     "name": "stdout",
     "output_type": "stream",
     "text": [
      "[Document(id='e41407df-39a5-406f-ab20-769e8ff4d1a5', metadata={'source': 'ML Basiscs', 'page': 1, 'topic': 'ML'}, page_content='Machine learning (ML) refers to the process of building algorithms that can learn from data and improve their performance over time. ML is a subset of AI and is used in a wide range of applications, including image recognition, natural language processing, fraud detection, and more.\\n        There are two main types of machine learning: supervised and unsupervised. Supervised learning involves training the algorithm on labeled data, where each input-output pair is known. Unsupervised'), Document(id='48429fdb-9acb-45c7-9844-9d47566c88c6', metadata={'source': 'ML Basiscs', 'page': 1, 'topic': 'ML'}, page_content=\"learning involves training the algorithm on unlabeled data, where only the inputs are known.\\n        One of the key challenges in developing ML algorithms is ensuring that they are accurate and reliable. This includes addressing issues like overfitting, underfitting, and bias. As ML becomes more advanced, it's important to consider how it will impact society and ensure that it is used for positive purposes.\\n        Overall, machine learning has the potential to revolutionize many industries and\"), Document(id='e1fd7b3f-1351-457b-a4c0-c95f9a5c2d96', metadata={'source': 'ML Basiscs', 'page': 1, 'topic': 'ML'}, page_content=\"improve our lives in countless ways. However, it's important to approach its development with caution and ensure that it is used responsibly and ethically.\")]\n"
     ]
    }
   ],
   "source": [
    "### Search with filter\n",
    "filter_dict = {\"topic\":\"ML\"}\n",
    "filtered_results = vectorstore.similarity_search(\n",
    "    query,\n",
    "    k=3,\n",
    "    filter=filter_dict\n",
    ")\n",
    "\n",
    "print(filtered_results)"
   ]
  },
  {
   "cell_type": "code",
   "execution_count": null,
   "id": "2080651b",
   "metadata": {},
   "outputs": [],
   "source": []
  }
 ],
 "metadata": {
  "kernelspec": {
   "display_name": ".venv",
   "language": "python",
   "name": "python3"
  },
  "language_info": {
   "codemirror_mode": {
    "name": "ipython",
    "version": 3
   },
   "file_extension": ".py",
   "mimetype": "text/x-python",
   "name": "python",
   "nbconvert_exporter": "python",
   "pygments_lexer": "ipython3",
   "version": "3.12.3"
  }
 },
 "nbformat": 4,
 "nbformat_minor": 5
}
