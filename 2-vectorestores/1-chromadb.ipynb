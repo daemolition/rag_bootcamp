{
 "cells": [
  {
   "cell_type": "markdown",
   "id": "d2103176",
   "metadata": {},
   "source": [
    "### Building a RAG System with LangChain and ChromaDB\n",
    "\n",
    "#### Introduction\n",
    "Retrieval-Augmented Generation (RAG) is a pwoerful technique that combines the capabilities of large\n",
    "language models with external knowledge retrievla. This notebook will walk you through building a complete RAG system using:  \n",
    "\n",
    "- LangChain: A framework fordeveloping applications powered by language models\n",
    "- ChromaDB: An open-source vector database for storing and retrieving embeddings\n",
    "- OpenAI: For embeddings and language model (you can substitue with other providers)"
   ]
  },
  {
   "cell_type": "code",
   "execution_count": 2,
   "id": "275b7a18",
   "metadata": {},
   "outputs": [
    {
     "data": {
      "text/plain": [
       "True"
      ]
     },
     "execution_count": 2,
     "metadata": {},
     "output_type": "execute_result"
    }
   ],
   "source": [
    "import os\n",
    "from dotenv import load_dotenv\n",
    "load_dotenv()"
   ]
  },
  {
   "cell_type": "code",
   "execution_count": 3,
   "id": "acb28527",
   "metadata": {},
   "outputs": [
    {
     "name": "stderr",
     "output_type": "stream",
     "text": [
      "/home/crizz/python/rag_bootcamp/.venv/lib/python3.12/site-packages/tqdm/auto.py:21: TqdmWarning: IProgress not found. Please update jupyter and ipywidgets. See https://ipywidgets.readthedocs.io/en/stable/user_install.html\n",
      "  from .autonotebook import tqdm as notebook_tqdm\n"
     ]
    }
   ],
   "source": [
    "## Langchain imports\n",
    "from langchain.text_splitter import RecursiveCharacterTextSplitter\n",
    "from langchain_community.document_loaders import TextLoader\n",
    "from langchain_huggingface import HuggingFaceEndpointEmbeddings\n",
    "from langchain.schema import Document\n",
    "\n",
    "# vectorestore\n",
    "from langchain.vectorstores import Chroma\n",
    "\n",
    "# utility imports\n",
    "import numpy as np\n",
    "from typing import List"
   ]
  },
  {
   "cell_type": "code",
   "execution_count": 4,
   "id": "3672213f",
   "metadata": {},
   "outputs": [
    {
     "data": {
      "text/plain": [
       "['Machine learning involves teaching computers to learn from and make predictions on data. It is a subset of artificial intelligence (AI) that focuses on developing algorithms and statistical models to enable machines to improve their performance on specific tasks over time.',\n",
       " 'Deep learning is a type of machine learning that uses neural networks with multiple layers to learn and extract features from complex data, such as images, sound, and text. It has achieved state-of-the-art results in many domains, including image recognition, natural language processing, and speech recognition.',\n",
       " 'Embeddings are numerical representations of words or phrases that capture their meaning and context. They are used in various applications, such as information retrieval, sentiment analysis, and recommendation systems. Embeddings can be learned from large text corpora using deep learning techniques.']"
      ]
     },
     "execution_count": 4,
     "metadata": {},
     "output_type": "execute_result"
    }
   ],
   "source": [
    "## Sample data document\n",
    "sample_docs = [\n",
    "    \"Machine learning involves teaching computers to learn from and make predictions on data. It is a subset of artificial intelligence (AI) that focuses on developing algorithms and statistical models to enable machines to improve their performance on specific tasks over time.\",\n",
    "    \"Deep learning is a type of machine learning that uses neural networks with multiple layers to learn and extract features from complex data, such as images, sound, and text. It has achieved state-of-the-art results in many domains, including image recognition, natural language processing, and speech recognition.\",\n",
    "    \"Embeddings are numerical representations of words or phrases that capture their meaning and context. They are used in various applications, such as information retrieval, sentiment analysis, and recommendation systems. Embeddings can be learned from large text corpora using deep learning techniques.\"\n",
    "]\n",
    "\n",
    "sample_docs"
   ]
  },
  {
   "cell_type": "code",
   "execution_count": 5,
   "id": "39d70dcf",
   "metadata": {},
   "outputs": [],
   "source": [
    "## Save sample documents to files\n",
    "\n",
    "os.makedirs(\"data\", exist_ok=True)\n",
    "\n",
    "for i, doc in enumerate(sample_docs):\n",
    "    with open(f\"data/doc_{i}.txt\", \"w\") as file:\n",
    "        file.write(doc)"
   ]
  },
  {
   "cell_type": "markdown",
   "id": "5c0abc72",
   "metadata": {},
   "source": [
    "## Document Loading"
   ]
  },
  {
   "cell_type": "code",
   "execution_count": 6,
   "id": "13152624",
   "metadata": {},
   "outputs": [
    {
     "name": "stdout",
     "output_type": "stream",
     "text": [
      "Loaded: 3 documents\n",
      "\n",
      "First Document:\n",
      "Embeddings are numerical representations of words or phrases that capture their meaning and context....\n"
     ]
    }
   ],
   "source": [
    "from langchain_community.document_loaders import DirectoryLoader\n",
    "\n",
    "# Load documents from directory\n",
    "loader = DirectoryLoader(\n",
    "    \"data/\",\n",
    "    glob=\"*.txt\",\n",
    "    loader_cls=TextLoader,\n",
    "    loader_kwargs={\n",
    "        'encoding':'utf-8'\n",
    "    }\n",
    ")\n",
    "\n",
    "documents = loader.load()\n",
    "\n",
    "print(f\"Loaded: {len(documents)} documents\")\n",
    "print(f\"\\nFirst Document:\")\n",
    "print(documents[0].page_content[:100]+\"...\")"
   ]
  },
  {
   "cell_type": "markdown",
   "id": "6e8cf74e",
   "metadata": {},
   "source": [
    "## Document Splitting"
   ]
  },
  {
   "cell_type": "code",
   "execution_count": 7,
   "id": "0de0f683",
   "metadata": {},
   "outputs": [
    {
     "name": "stdout",
     "output_type": "stream",
     "text": [
      "Created 3 chunks from 3 documents\n",
      "\n",
      "Chunk example:\n",
      "Content: Embeddings are numerical representations of words or phrases that capture their meaning and context. They are used in various applications, such as in...\n",
      "Metadata: {'source': 'data/doc_2.txt'}\n"
     ]
    }
   ],
   "source": [
    "text_splitter = RecursiveCharacterTextSplitter(\n",
    "    chunk_size=500,\n",
    "    chunk_overlap=50,\n",
    "    length_function=len,\n",
    "    separators=[\" \"]   \n",
    ")\n",
    "\n",
    "chunks = text_splitter.split_documents(documents=documents)\n",
    "\n",
    "print(f\"Created {len(chunks)} chunks from {len(documents)} documents\")\n",
    "print(f\"\\nChunk example:\")\n",
    "print(f\"Content: {chunks[0].page_content[:150]}...\")\n",
    "print(f\"Metadata: {chunks[0].metadata}\")"
   ]
  },
  {
   "cell_type": "markdown",
   "id": "17c05aa2",
   "metadata": {},
   "source": [
    "## Embedding"
   ]
  },
  {
   "cell_type": "code",
   "execution_count": 8,
   "id": "745e7dd2",
   "metadata": {},
   "outputs": [],
   "source": [
    "# Text Embeddings Inference\n",
    "embeddings = HuggingFaceEndpointEmbeddings(model=\"http://localhost:8080\")\n",
    "vector = embeddings.embed_documents([text.page_content for text in chunks])"
   ]
  },
  {
   "cell_type": "markdown",
   "id": "a2133c43",
   "metadata": {},
   "source": [
    "## Vetorstore\n",
    "Initialize ChromaDB and Store the chunks in vector representation"
   ]
  },
  {
   "cell_type": "code",
   "execution_count": 9,
   "id": "8541bc4b",
   "metadata": {},
   "outputs": [
    {
     "name": "stdout",
     "output_type": "stream",
     "text": [
      "Vectorestrore created with 12 vectors\n",
      "Persited to: ./chromadb\n"
     ]
    }
   ],
   "source": [
    "## Create ChromaDB vectorstore\n",
    "persist_directory=\"./chromadb\"\n",
    "\n",
    "## Initialize ChromaDB\n",
    "vectore_store = Chroma.from_documents(\n",
    "    documents=chunks,\n",
    "    embedding=HuggingFaceEndpointEmbeddings(model=\"http://localhost:8080\"),\n",
    "    persist_directory=persist_directory,\n",
    "    collection_name=\"rag_collection\"\n",
    ")\n",
    "\n",
    "print(f\"Vectorestrore created with {vectore_store._collection.count()} vectors\")\n",
    "print(f\"Persited to: {persist_directory}\")"
   ]
  },
  {
   "cell_type": "markdown",
   "id": "d2c1be1a",
   "metadata": {},
   "source": [
    "### Test the similarity search"
   ]
  },
  {
   "cell_type": "code",
   "execution_count": 10,
   "id": "ed7fc581",
   "metadata": {},
   "outputs": [
    {
     "data": {
      "text/plain": [
       "[(Document(metadata={'source': 'data/doc_0.txt'}, page_content='Machine learning involves teaching computers to learn from and make predictions on data. It is a subset of artificial intelligence (AI) that focuses on developing algorithms and statistical models to enable machines to improve their performance on specific tasks over time.'),\n",
       "  0.49546098709106445),\n",
       " (Document(metadata={'source': 'data/doc_0.txt'}, page_content='Machine learning involves teaching computers to learn from and make predictions on data. It is a subset of artificial intelligence (AI) that focuses on developing algorithms and statistical models to enable machines to improve their performance on specific tasks over time.'),\n",
       "  0.49564552307128906),\n",
       " (Document(metadata={'source': 'data/doc_1.txt'}, page_content='Deep learning is a type of machine learning that uses neural networks with multiple layers to learn and extract features from complex data, such as images, sound, and text. It has achieved state-of-the-art results in many domains, including image recognition, natural language processing, and speech recognition.'),\n",
       "  0.6365021467208862)]"
      ]
     },
     "execution_count": 10,
     "metadata": {},
     "output_type": "execute_result"
    }
   ],
   "source": [
    "### Advanced similarity search\n",
    "\n",
    "query = \"What is machine learning\"\n",
    "\n",
    "result = vectore_store.similarity_search_with_score(query, k=3)\n",
    "result"
   ]
  },
  {
   "cell_type": "markdown",
   "id": "dff2ead7",
   "metadata": {},
   "source": [
    "### Understandig similarity score\n",
    "The similarity score represents how closly related a document chunk is to your query. The scoring depends on the distance\n",
    "metric used.\n",
    "\n",
    "ChromaDB default: Uses L2 distance (Euclidean distance)\n",
    "\n",
    "- Lower scores = MORE similar (closer in vector space)  \n",
    "- Score of 0 = identical vectors  \n",
    "- Typical range: 0 to 2 (but can be higher)\n",
    "\n",
    "\n",
    "Cosine similarity (if configured):  \n",
    "\n",
    "- Higher scores = More similar  \n",
    "- Range: -1 to 1 (1 being identical)"
   ]
  },
  {
   "cell_type": "code",
   "execution_count": 11,
   "id": "9bec6cf8",
   "metadata": {},
   "outputs": [],
   "source": [
    "### Initialize LLM, RAG Chain, Prompt Template, Query the RAG System\n",
    "from langchain_ollama import ChatOllama\n",
    "\n",
    "llm = ChatOllama(\n",
    "    model=\"llama3.1:8b\",    \n",
    "    temperature=0.2,\n",
    "    reasoning=False\n",
    ")"
   ]
  },
  {
   "cell_type": "code",
   "execution_count": 12,
   "id": "55962764",
   "metadata": {},
   "outputs": [
    {
     "name": "stdout",
     "output_type": "stream",
     "text": [
      "Large Language Models (LLMs) are a type of artificial intelligence (AI) designed to process and generate human-like language. They're a subset of Natural Language Processing (NLP) models, which have gained significant attention in recent years due to their impressive capabilities.\n",
      "\n",
      "**Key characteristics:**\n",
      "\n",
      "1. **Scale**: LLMs are trained on massive datasets, often containing billions or even trillions of words.\n",
      "2. **Complexity**: These models consist of multiple layers, with each layer processing the input data in a hierarchical manner.\n",
      "3. **Depth**: LLMs have many layers (typically 10-100), allowing them to capture complex relationships between words and concepts.\n",
      "\n",
      "**How they work:**\n",
      "\n",
      "1. **Input**: The model takes in text as input, which can be a sentence, paragraph, or even an entire book.\n",
      "2. **Embeddings**: The input is converted into numerical representations called embeddings, which capture the semantic meaning of each word.\n",
      "3. **Transformers**: LLMs use transformer architectures, which consist of self-attention mechanisms and feed-forward neural networks (FFNNs).\n",
      "4. **Output**: The model generates a probability distribution over possible outputs, such as text completion or classification.\n",
      "\n",
      "**Applications:**\n",
      "\n",
      "1. **Language Translation**: LLMs can translate languages with high accuracy.\n",
      "2. **Text Summarization**: They can summarize long documents into concise summaries.\n",
      "3. **Question Answering**: LLMs can answer questions based on the input text.\n",
      "4. **Content Generation**: They can generate human-like text, such as articles, stories, or even entire books.\n",
      "5. **Sentiment Analysis**: LLMs can analyze sentiment and emotions in text.\n",
      "\n",
      "**Examples of popular Large Language Models:**\n",
      "\n",
      "1. **BERT (Bidirectional Encoder Representations from Transformers)**: Developed by Google, BERT is a widely used LLM for various NLP tasks.\n",
      "2. **RoBERTa (Robustly Optimized BERT Pretraining Approach)**: An improved version of BERT, developed by Facebook AI.\n",
      "3. **XLNet**: A more advanced LLM developed by Google and the University of California, Berkeley.\n",
      "4. **T5 (Text-to-Text Transfer Traning)**: Developed by Google, T5 is a general-purpose LLM for various NLP tasks.\n",
      "\n",
      "**Challenges and limitations:**\n",
      "\n",
      "1. **Explainability**: LLMs can be difficult to interpret, making it challenging to understand their decision-making process.\n",
      "2. **Bias**: These models can perpetuate biases present in the training data.\n",
      "3. **Scalability**: Training large models requires significant computational resources and energy consumption.\n",
      "\n",
      "In summary, Large Language Models are powerful AI systems that have revolutionized the field of NLP. While they offer many benefits, they also come with challenges and limitations that need to be addressed as these models continue to evolve."
     ]
    }
   ],
   "source": [
    "test_response = llm.stream(\"What are Large Language Models\")\n",
    "\n",
    "for text in test_response:\n",
    "    print(text.content, end='')"
   ]
  },
  {
   "cell_type": "markdown",
   "id": "e230c60c",
   "metadata": {},
   "source": [
    "## Modern RAG Chain"
   ]
  },
  {
   "cell_type": "code",
   "execution_count": 13,
   "id": "4060ac37",
   "metadata": {},
   "outputs": [],
   "source": [
    "from langchain.chains import create_retrieval_chain\n",
    "from langchain_core.prompts import ChatPromptTemplate\n",
    "from langchain.chains.combine_documents import create_stuff_documents_chain"
   ]
  },
  {
   "cell_type": "code",
   "execution_count": 14,
   "id": "59873157",
   "metadata": {},
   "outputs": [],
   "source": [
    "## Convert vectorestore to retriever\n",
    "retriever = vectore_store.as_retriever(\n",
    "    search_kwarg={\"k\":3} # Retrieve top 3 chunks\n",
    ")"
   ]
  },
  {
   "cell_type": "code",
   "execution_count": 15,
   "id": "7dabc8fb",
   "metadata": {},
   "outputs": [],
   "source": [
    "## Create a prompt template\n",
    "system_prompt = \"\"\"You are an assistant for question-answering tasks.\n",
    "Use the following pieces of retrieved context to answer the question.\n",
    "If you don't know the answer, just say tha you don't know.\n",
    "Use three sentences maximum and keep the answer concise.\n",
    "\n",
    "Context: {context}\n",
    "\"\"\"\n",
    "\n",
    "prompt = ChatPromptTemplate.from_messages([\n",
    "    (\"system\", system_prompt),\n",
    "    (\"user\", \"{input}\")   \n",
    "])"
   ]
  },
  {
   "cell_type": "code",
   "execution_count": 16,
   "id": "3f573363",
   "metadata": {},
   "outputs": [
    {
     "data": {
      "text/plain": [
       "RunnableBinding(bound=RunnableBinding(bound=RunnableAssign(mapper={\n",
       "  context: RunnableLambda(format_docs)\n",
       "}), kwargs={}, config={'run_name': 'format_inputs'}, config_factories=[])\n",
       "| ChatPromptTemplate(input_variables=['context', 'input'], input_types={}, partial_variables={}, messages=[SystemMessagePromptTemplate(prompt=PromptTemplate(input_variables=['context'], input_types={}, partial_variables={}, template=\"You are an assistant for question-answering tasks.\\nUse the following pieces of retrieved context to answer the question.\\nIf you don't know the answer, just say tha you don't know.\\nUse three sentences maximum and keep the answer concise.\\n\\nContext: {context}\\n\"), additional_kwargs={}), HumanMessagePromptTemplate(prompt=PromptTemplate(input_variables=['input'], input_types={}, partial_variables={}, template='{input}'), additional_kwargs={})])\n",
       "| ChatOllama(model='llama3.1:8b', reasoning=False, temperature=0.2)\n",
       "| StrOutputParser(), kwargs={}, config={'run_name': 'stuff_documents_chain'}, config_factories=[])"
      ]
     },
     "execution_count": 16,
     "metadata": {},
     "output_type": "execute_result"
    }
   ],
   "source": [
    "## Create document chain\n",
    "document_chain = create_stuff_documents_chain(llm, prompt)\n",
    "document_chain"
   ]
  },
  {
   "cell_type": "markdown",
   "id": "ebb75137",
   "metadata": {},
   "source": [
    "**This chain**\n",
    "- Takes retrieved documents\n",
    "- \"Stuffs\" them into the prompt's {context} placeholder\n",
    "- Sends the complete prompt to the LLM\n",
    "- Returns the LLM's response\n"
   ]
  },
  {
   "cell_type": "code",
   "execution_count": 17,
   "id": "b44956a4",
   "metadata": {},
   "outputs": [
    {
     "data": {
      "text/plain": [
       "{'input': 'What can you tell me about embedding?',\n",
       " 'context': [Document(metadata={'source': 'data/doc_2.txt'}, page_content='Embeddings are numerical representations of words or phrases that capture their meaning and context. They are used in various applications, such as information retrieval, sentiment analysis, and recommendation systems. Embeddings can be learned from large text corpora using deep learning techniques.'),\n",
       "  Document(metadata={'source': 'data/doc_2.txt'}, page_content='Embeddings are numerical representations of words or phrases that capture their meaning and context. They are used in various applications, such as information retrieval, sentiment analysis, and recommendation systems. Embeddings can be learned from large text corpora using deep learning techniques.'),\n",
       "  Document(metadata={'source': 'data/doc_1.txt'}, page_content='Deep learning is a type of machine learning that uses neural networks with multiple layers to learn and extract features from complex data, such as images, sound, and text. It has achieved state-of-the-art results in many domains, including image recognition, natural language processing, and speech recognition.'),\n",
       "  Document(metadata={'source': 'data/doc_1.txt'}, page_content='Deep learning is a type of machine learning that uses neural networks with multiple layers to learn and extract features from complex data, such as images, sound, and text. It has achieved state-of-the-art results in many domains, including image recognition, natural language processing, and speech recognition.')],\n",
       " 'answer': 'Embeddings are numerical representations of words or phrases that capture their meaning and context. They are used in various applications such as information retrieval, sentiment analysis, and recommendation systems. Embeddings can be learned from large text corpora using deep learning techniques.'}"
      ]
     },
     "execution_count": 17,
     "metadata": {},
     "output_type": "execute_result"
    }
   ],
   "source": [
    "### Create the final RAG Chain\n",
    "rag_chain = create_retrieval_chain(retriever, document_chain)\n",
    "result = rag_chain.invoke({\"input\":\"What can you tell me about embedding?\"})\n",
    "\n",
    "result\n",
    "    "
   ]
  },
  {
   "cell_type": "markdown",
   "id": "740c790d",
   "metadata": {},
   "source": [
    "## Create RAG Chain Alternative - Using LCEL (LangChain Expression Language)"
   ]
  },
  {
   "cell_type": "code",
   "execution_count": 18,
   "id": "f5c7d186",
   "metadata": {},
   "outputs": [],
   "source": [
    "from langchain_core.output_parsers import StrOutputParser\n",
    "from langchain_core.runnables import RunnablePassthrough, RunnableParallel\n",
    "\n",
    "# Create custom prompt\n",
    "custom_prompt = ChatPromptTemplate.from_template(\n",
    "    \"\"\"\n",
    "    Use the following context to answer the question.\n",
    "    If you do'nt know the answer based on the context, say you don't know.\n",
    "    Provide specific details from the context to support your answer.\n",
    "    \n",
    "    Context:\n",
    "    {context}\n",
    "    \n",
    "    Question: {question}\n",
    "    \n",
    "    Answer:\n",
    "    \"\"\" \n",
    ")"
   ]
  },
  {
   "cell_type": "code",
   "execution_count": null,
   "id": "0f2e1de4",
   "metadata": {},
   "outputs": [],
   "source": [
    "## Format the output documents for the prompt\n",
    "def format_docs(docs):\n",
    "    return \"\\n\\n\".join(doc.page_content for doc in docs)"
   ]
  },
  {
   "cell_type": "code",
   "execution_count": 20,
   "id": "1459dd1d",
   "metadata": {},
   "outputs": [
    {
     "data": {
      "text/plain": [
       "'Deep learning is a type of machine learning that uses neural networks with multiple layers to learn and extract features from complex data, such as images, sound, and text. It has achieved state-of-the-art results in many domains, including image recognition, natural language processing, and speech recognition.\\n\\nThis answer is supported by the following specific details from the context:\\n\\n* The first paragraph states that deep learning uses neural networks with multiple layers to learn and extract features from complex data.\\n* The second paragraph mentions machine learning as a subset of artificial intelligence (AI), but it does not provide further information about deep learning.'"
      ]
     },
     "execution_count": 20,
     "metadata": {},
     "output_type": "execute_result"
    }
   ],
   "source": [
    "## Builkd the chain using LCEL\n",
    "rag_chain_lcel = (\n",
    "    {\n",
    "        \"context\": retriever | format_docs,\n",
    "        \"question\": RunnablePassthrough()\n",
    "    }\n",
    "    | custom_prompt\n",
    "    | llm\n",
    "    | StrOutputParser()\n",
    ")\n",
    "\n",
    "result = rag_chain_lcel.invoke(\"What is deep learning\")\n",
    "result"
   ]
  },
  {
   "cell_type": "markdown",
   "id": "56c02e65",
   "metadata": {},
   "source": [
    "## Add new documents to vectorstore"
   ]
  },
  {
   "cell_type": "code",
   "execution_count": 21,
   "id": "e5c6d1a6",
   "metadata": {},
   "outputs": [],
   "source": [
    "new_document = \"\"\"\n",
    "Reinforcment Learning in Detail:\n",
    "\n",
    "Reinforcement learning is a type of machine learning that involves training an agent to make decisions by interacting with its environment. The goal is for the agent to learn how to maximize some form of reward, such as points or money, over time.\n",
    "In reinforcement learning, the agent takes actions in an environment and receives feedback in the form of rewards or penalties. Based on this feedback, the agent learns which actions are more likely to lead to positive outcomes and adjusts its behavior accordingly.\n",
    "There are two main types of reinforcement learning: supervised and unsupervised. In supervised reinforcement learning, the agent is given a set of examples of correct actions to take in different situations, and it learns by comparing its own actions to these examples. In unsupervised reinforcement learning, the agent learns by trial and error, without any explicit feedback.\n",
    "Reinforcement learning has many applications, including robotics, game playing, autonomous vehicles, and more. It is a powerful tool for solving complex problems that require decision-making in dynamic environments.\n",
    "\"\"\""
   ]
  },
  {
   "cell_type": "code",
   "execution_count": 22,
   "id": "6880a06a",
   "metadata": {},
   "outputs": [],
   "source": [
    "new_doc = Document(\n",
    "    page_content=new_document,\n",
    "    metadata={\n",
    "        \"source\": \"manual_addition\",\n",
    "        \"topic\": \"reinforcement learning\",\n",
    "        \"author\": \"me\"\n",
    "    }\n",
    ")"
   ]
  },
  {
   "cell_type": "code",
   "execution_count": 23,
   "id": "8cd9e1b1",
   "metadata": {},
   "outputs": [
    {
     "data": {
      "text/plain": [
       "['ea82b5f5-35a3-4996-940e-0e83de1a9871',\n",
       " 'ed05bc6d-b632-4ed9-a21e-fd0b81a31d80',\n",
       " '23766089-166a-47c3-9b5d-1ce8ab3a8232']"
      ]
     },
     "execution_count": 23,
     "metadata": {},
     "output_type": "execute_result"
    }
   ],
   "source": [
    "### Add new documents to vectorestore\n",
    "new_chunks = text_splitter.split_documents([new_doc])\n",
    "\n",
    "vectore_store.add_documents(new_chunks)"
   ]
  },
  {
   "cell_type": "code",
   "execution_count": 24,
   "id": "10d6eeca",
   "metadata": {},
   "outputs": [
    {
     "name": "stdout",
     "output_type": "stream",
     "text": [
      "Reinforcement learning is a type of machine learning where an agent learns to make decisions by interacting with its environment and receiving feedback in the form of rewards or penalties. The goal is for the agent to maximize some form of reward over time. This process involves trial and error, allowing the agent to learn from its experiences."
     ]
    }
   ],
   "source": [
    "result = rag_chain.stream({\"input\":\"What is reinforcment learning?\"})\n",
    "\n",
    "for chunk in result:\n",
    "    if isinstance(chunk, dict):\n",
    "        for k, v in chunk.items():\n",
    "            if \"answer\" in k:\n",
    "                print(v, end='', flush=True)"
   ]
  },
  {
   "cell_type": "markdown",
   "id": "ff8708fb",
   "metadata": {},
   "source": [
    "## Advanced Rag Techniqes - Conversional Memory "
   ]
  },
  {
   "cell_type": "markdown",
   "id": "346248e5",
   "metadata": {},
   "source": [
    "- create_histroy_aware_retriever: Makes the retriever understand conversation context\n",
    "- MessagesPlaceholder: Placeholder for chat history in prompts\n",
    "- HumanMessage/AIMessage: Structured message types for conversation history"
   ]
  },
  {
   "cell_type": "code",
   "execution_count": 25,
   "id": "07e0f412",
   "metadata": {},
   "outputs": [],
   "source": [
    "from langchain.chains import create_history_aware_retriever\n",
    "from langchain_core.prompts import MessagesPlaceholder\n",
    "from langchain_core.messages import HumanMessage, AIMessage\n",
    "\n",
    "## Create a prompts including the chathistory\n",
    "system_prompt_with_history = \"\"\"\"\n",
    "Given a chat history and the latest user question\n",
    "which might reference context in the chat history, formulate a standalone\n",
    "question which can be understood without the chat history. Do NOT answer the question,\n",
    "just reformulate it if needed an otherwise return it as is.\n",
    "\"\"\""
   ]
  },
  {
   "cell_type": "code",
   "execution_count": 26,
   "id": "93ecc05e",
   "metadata": {},
   "outputs": [],
   "source": [
    "prompt_with_history = ChatPromptTemplate.from_messages([\n",
    "    (\"system\", system_prompt_with_history),\n",
    "    MessagesPlaceholder(\"chat_history\"),\n",
    "    (\"human\", \"{input}\")\n",
    "])"
   ]
  },
  {
   "cell_type": "code",
   "execution_count": 27,
   "id": "8720d7a0",
   "metadata": {},
   "outputs": [],
   "source": [
    "## Create the history aware retriever\n",
    "history_aware_retriever = create_history_aware_retriever(\n",
    "    llm, \n",
    "    retriever,\n",
    "    prompt_with_history\n",
    ")"
   ]
  },
  {
   "cell_type": "code",
   "execution_count": 28,
   "id": "606c3adb",
   "metadata": {},
   "outputs": [
    {
     "data": {
      "text/plain": [
       "RunnableBinding(bound=RunnableBranch(branches=[(RunnableLambda(lambda x: not x.get('chat_history', False)), RunnableLambda(lambda x: x['input'])\n",
       "| VectorStoreRetriever(tags=['Chroma', 'HuggingFaceEndpointEmbeddings'], vectorstore=<langchain_community.vectorstores.chroma.Chroma object at 0x7a32a19e1040>, search_kwargs={}))], default=ChatPromptTemplate(input_variables=['chat_history', 'input'], input_types={'chat_history': list[typing.Annotated[typing.Union[typing.Annotated[langchain_core.messages.ai.AIMessage, Tag(tag='ai')], typing.Annotated[langchain_core.messages.human.HumanMessage, Tag(tag='human')], typing.Annotated[langchain_core.messages.chat.ChatMessage, Tag(tag='chat')], typing.Annotated[langchain_core.messages.system.SystemMessage, Tag(tag='system')], typing.Annotated[langchain_core.messages.function.FunctionMessage, Tag(tag='function')], typing.Annotated[langchain_core.messages.tool.ToolMessage, Tag(tag='tool')], typing.Annotated[langchain_core.messages.ai.AIMessageChunk, Tag(tag='AIMessageChunk')], typing.Annotated[langchain_core.messages.human.HumanMessageChunk, Tag(tag='HumanMessageChunk')], typing.Annotated[langchain_core.messages.chat.ChatMessageChunk, Tag(tag='ChatMessageChunk')], typing.Annotated[langchain_core.messages.system.SystemMessageChunk, Tag(tag='SystemMessageChunk')], typing.Annotated[langchain_core.messages.function.FunctionMessageChunk, Tag(tag='FunctionMessageChunk')], typing.Annotated[langchain_core.messages.tool.ToolMessageChunk, Tag(tag='ToolMessageChunk')]], FieldInfo(annotation=NoneType, required=True, discriminator=Discriminator(discriminator=<function _get_type at 0x7a33c4650fe0>, custom_error_type=None, custom_error_message=None, custom_error_context=None))]]}, partial_variables={}, messages=[SystemMessagePromptTemplate(prompt=PromptTemplate(input_variables=[], input_types={}, partial_variables={}, template='\"\\nGiven a chat history and the latest user question\\nwhich might reference context in the chat history, formulate a standalone\\nquestion which can be understood without the chat history. Do NOT answer the question,\\njust reformulate it if needed an otherwise return it as is.\\n'), additional_kwargs={}), MessagesPlaceholder(variable_name='chat_history'), HumanMessagePromptTemplate(prompt=PromptTemplate(input_variables=['input'], input_types={}, partial_variables={}, template='{input}'), additional_kwargs={})])\n",
       "| ChatOllama(model='llama3.1:8b', reasoning=False, temperature=0.2)\n",
       "| StrOutputParser()\n",
       "| VectorStoreRetriever(tags=['Chroma', 'HuggingFaceEndpointEmbeddings'], vectorstore=<langchain_community.vectorstores.chroma.Chroma object at 0x7a32a19e1040>, search_kwargs={})), kwargs={}, config={'run_name': 'chat_retriever_chain'}, config_factories=[])"
      ]
     },
     "execution_count": 28,
     "metadata": {},
     "output_type": "execute_result"
    }
   ],
   "source": [
    "history_aware_retriever"
   ]
  },
  {
   "cell_type": "code",
   "execution_count": 33,
   "id": "424b18f8",
   "metadata": {},
   "outputs": [],
   "source": [
    "## Create a prompt template\n",
    "system_prompt = \"\"\"You are an assistant for question-answering tasks.\n",
    "Use the following pieces of retrieved context to answer the question.\n",
    "If you don't know the answer, just say tha you don't know.\n",
    "Use three sentences maximum and keep the answer concise.\n",
    "\n",
    "Context: {context}\n",
    "\"\"\"\n",
    "\n",
    "prompt = ChatPromptTemplate.from_messages([\n",
    "    (\"system\", system_prompt),\n",
    "    MessagesPlaceholder(\"chat_history\"),\n",
    "    (\"human\", \"{input}\")   \n",
    "])\n",
    "\n",
    "question_answer_chain = create_stuff_documents_chain(llm, prompt)\n",
    "\n",
    "conversational_rag_chain = create_retrieval_chain(\n",
    "    history_aware_retriever,\n",
    "    question_answer_chain\n",
    ")"
   ]
  },
  {
   "cell_type": "code",
   "execution_count": 38,
   "id": "33ff8171",
   "metadata": {},
   "outputs": [
    {
     "name": "stdout",
     "output_type": "stream",
     "text": [
      "{'chat_history': [], 'input': 'What is deep learning??', 'context': [Document(metadata={'source': 'data/doc_1.txt'}, page_content='Deep learning is a type of machine learning that uses neural networks with multiple layers to learn and extract features from complex data, such as images, sound, and text. It has achieved state-of-the-art results in many domains, including image recognition, natural language processing, and speech recognition.'), Document(metadata={'source': 'data/doc_1.txt'}, page_content='Deep learning is a type of machine learning that uses neural networks with multiple layers to learn and extract features from complex data, such as images, sound, and text. It has achieved state-of-the-art results in many domains, including image recognition, natural language processing, and speech recognition.'), Document(metadata={'source': 'data/doc_0.txt'}, page_content='Machine learning involves teaching computers to learn from and make predictions on data. It is a subset of artificial intelligence (AI) that focuses on developing algorithms and statistical models to enable machines to improve their performance on specific tasks over time.'), Document(metadata={'source': 'data/doc_0.txt'}, page_content='Machine learning involves teaching computers to learn from and make predictions on data. It is a subset of artificial intelligence (AI) that focuses on developing algorithms and statistical models to enable machines to improve their performance on specific tasks over time.')], 'answer': 'Deep learning is a type of machine learning that uses neural networks with multiple layers to learn and extract features from complex data, such as images, sound, and text. It has achieved state-of-the-art results in many domains, including image recognition, natural language processing, and speech recognition. This technique enables computers to automatically learn and improve their performance on specific tasks over time.'}\n"
     ]
    }
   ],
   "source": [
    "chat_history = []\n",
    "result = conversational_rag_chain.invoke({\"chat_history\": chat_history, \"input\":\"What is deep learning??\"})\n",
    "\n",
    "print(result)"
   ]
  },
  {
   "cell_type": "code",
   "execution_count": 40,
   "id": "373289c7",
   "metadata": {},
   "outputs": [],
   "source": [
    "chat_history.extend([\n",
    "    HumanMessage(content=\"Whas is deep learning??\"),\n",
    "    AIMessage(content=result[\"answer\"])\n",
    "])"
   ]
  },
  {
   "cell_type": "code",
   "execution_count": 41,
   "id": "90ce7956",
   "metadata": {},
   "outputs": [
    {
     "data": {
      "text/plain": [
       "[HumanMessage(content='Whas is deep learning??', additional_kwargs={}, response_metadata={}),\n",
       " AIMessage(content='Deep learning is a type of machine learning that uses neural networks with multiple layers to learn and extract features from complex data, such as images, sound, and text. It has achieved state-of-the-art results in many domains, including image recognition, natural language processing, and speech recognition. This technique enables computers to automatically learn and improve their performance on specific tasks over time.', additional_kwargs={}, response_metadata={})]"
      ]
     },
     "execution_count": 41,
     "metadata": {},
     "output_type": "execute_result"
    }
   ],
   "source": [
    "chat_history"
   ]
  },
  {
   "cell_type": "code",
   "execution_count": 43,
   "id": "fdad0e8b",
   "metadata": {},
   "outputs": [
    {
     "name": "stdout",
     "output_type": "stream",
     "text": [
      "There are two main types of reinforcement learning: supervised and unsupervised. In supervised reinforcement learning, the agent is given a set of examples of correct actions to take in different situations. In unsupervised reinforcement learning, the agent learns by trial and error, without any explicit feedback.\n"
     ]
    }
   ],
   "source": [
    "## Follow up question\n",
    "result = conversational_rag_chain.invoke({\"chat_history\": chat_history, \"input\":\"What are it's main type?\"})\n",
    "\n",
    "print(result['answer'])"
   ]
  },
  {
   "cell_type": "code",
   "execution_count": null,
   "id": "8aad94da",
   "metadata": {},
   "outputs": [],
   "source": []
  }
 ],
 "metadata": {
  "kernelspec": {
   "display_name": ".venv",
   "language": "python",
   "name": "python3"
  },
  "language_info": {
   "codemirror_mode": {
    "name": "ipython",
    "version": 3
   },
   "file_extension": ".py",
   "mimetype": "text/x-python",
   "name": "python",
   "nbconvert_exporter": "python",
   "pygments_lexer": "ipython3",
   "version": "3.12.3"
  }
 },
 "nbformat": 4,
 "nbformat_minor": 5
}
