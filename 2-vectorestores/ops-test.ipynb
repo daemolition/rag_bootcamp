{
 "cells": [
  {
   "cell_type": "markdown",
   "id": "d2103176",
   "metadata": {},
   "source": [
    "### Building a RAG System with LangChain and ChromaDB\n",
    "\n",
    "#### Introduction\n",
    "Retrieval-Augmented Generation (RAG) is a pwoerful technique that combines the capabilities of large\n",
    "language models with external knowledge retrievla. This notebook will walk you through building a complete RAG system using:  \n",
    "\n",
    "- LangChain: A framework fordeveloping applications powered by language models\n",
    "- ChromaDB: An open-source vector database for storing and retrieving embeddings\n",
    "- OpenAI: For embeddings and language model (you can substitue with other providers)"
   ]
  },
  {
   "cell_type": "code",
   "execution_count": 3,
   "id": "275b7a18",
   "metadata": {},
   "outputs": [
    {
     "data": {
      "text/plain": [
       "True"
      ]
     },
     "execution_count": 3,
     "metadata": {},
     "output_type": "execute_result"
    }
   ],
   "source": [
    "import os\n",
    "from dotenv import load_dotenv\n",
    "load_dotenv()"
   ]
  },
  {
   "cell_type": "code",
   "execution_count": 2,
   "id": "acb28527",
   "metadata": {},
   "outputs": [],
   "source": [
    "## Langchain imports\n",
    "from langchain.text_splitter import RecursiveCharacterTextSplitter\n",
    "from langchain_community.document_loaders import TextLoader, PyPDFLoader\n",
    "from langchain_huggingface import HuggingFaceEndpointEmbeddings\n",
    "from langchain.schema import Document\n",
    "\n",
    "# vectorestore\n",
    "from langchain.vectorstores import Chroma\n",
    "\n",
    "# utility imports\n",
    "import numpy as np\n",
    "from typing import List"
   ]
  },
  {
   "cell_type": "markdown",
   "id": "6e8cf74e",
   "metadata": {},
   "source": [
    "## Document Splitting"
   ]
  },
  {
   "cell_type": "code",
   "execution_count": 3,
   "id": "0de0f683",
   "metadata": {},
   "outputs": [],
   "source": [
    "from typing import List, Any\n",
    "import re\n",
    "\n",
    "class SmartPDF:\n",
    "    def __init__(self, chunk_size: int = 1000, chunk_overlap: int = 150):\n",
    "        self.chunk_size = chunk_size\n",
    "        self.chunk_overlap = chunk_overlap\n",
    "        self.text_splitter = RecursiveCharacterTextSplitter(\n",
    "            chunk_size=self.chunk_size,\n",
    "            chunk_overlap=self.chunk_overlap,\n",
    "            separators=[\" \"]\n",
    "        )\n",
    "        \n",
    "    def process_pdf(self, pdf_path: str) -> List[Document]:\n",
    "        \"\"\"Processes the pdf\"\"\"\n",
    "        \n",
    "        # Loading the PDF\n",
    "        loader = PyPDFLoader(pdf_path)\n",
    "        pages = loader.load()\n",
    "        \n",
    "        processed_chunks = []\n",
    "        \n",
    "        for page_num, page in enumerate(pages):\n",
    "            ## Clean the text\n",
    "            cleaned_text = self._clean_text(page.page_content)\n",
    "            \n",
    "            # OPs Codes bekommen\n",
    "            ops_codes = self._get_codes(page.page_content)\n",
    "            \n",
    "            ## Skip nearly empty page\n",
    "            if len(cleaned_text.strip()) < 50:\n",
    "                continue\n",
    "            \n",
    "            chunks = self.text_splitter.create_documents(\n",
    "                texts=[cleaned_text],\n",
    "                metadatas=[{\n",
    "                    **page.metadata,\n",
    "                    \"page\": page_num + 1,\n",
    "                    \"total_pages\": len(pages),\n",
    "                    \"chunk_method\": \"smar_pdf_processor\",\n",
    "                    \"char_count\": len(cleaned_text),\n",
    "                    \"ops_code\": ops_codes\n",
    "                }]                                 \n",
    "            )        \n",
    "            \n",
    "            processed_chunks.extend(chunks)\n",
    "            \n",
    "        return processed_chunks\n",
    "    \n",
    "    \n",
    "    def _clean_text(self, text: str) -> str:\n",
    "        \"\"\"Clean extracted text\"\"\"\n",
    "        \n",
    "        text = \" \".join(text.split())\n",
    "        \n",
    "        return text\n",
    "    \n",
    "    def _get_codes(self, text: str) -> Any:\n",
    "        first_line = text.strip().split(\"\\n\")[0]\n",
    "        pattern = r\"^\\s*(\\d{1,2}-\\d{2,3}(?:\\.\\d{1,3})?)\"\n",
    "        match = re.match(pattern, first_line)\n",
    "        if match:\n",
    "            code = match.group(1)\n",
    "            # Nur valide OPS-Kodes zulassen (1- bis 9- am Anfang)\n",
    "            if re.match(r\"^[1-9]-\\d{2,3}(?:\\.\\d{1,3})?$\", code):\n",
    "                return code\n",
    "        return None"
   ]
  },
  {
   "cell_type": "code",
   "execution_count": 4,
   "id": "ad1882c6",
   "metadata": {},
   "outputs": [
    {
     "name": "stdout",
     "output_type": "stream",
     "text": [
      "Processed 2097 chunks\n",
      "producer: LibreOffice 7.5\n",
      "creator: Writer\n",
      "creationdate: 2024-10-16T11:52:46+02:00\n",
      "author: BfArM\n",
      "moddate: 2024-10-21T17:45:24+02:00\n",
      "title: OPS Version 2025 Systematisches Verzeichnis\n",
      "source: data/ops_2025.pdf\n",
      "total_pages: 662\n",
      "page: 407\n",
      "page_label: 407\n",
      "chunk_method: smar_pdf_processor\n",
      "char_count: 2541\n",
      "ops_code: 5-903\n"
     ]
    }
   ],
   "source": [
    "pdf_processor = SmartPDF()\n",
    "\n",
    "try:\n",
    "    chunks = pdf_processor.process_pdf(\"data/ops_2025.pdf\")\n",
    "    print(f\"Processed {len(chunks)} chunks\")\n",
    "    for key, value in chunks[1254].metadata.items():\n",
    "        print(f\"{key}: {value}\")   \n",
    "except Exception as e:\n",
    "    print(f\"Error: {e}\")\n",
    "    "
   ]
  },
  {
   "cell_type": "markdown",
   "id": "17c05aa2",
   "metadata": {},
   "source": [
    "## Embedding"
   ]
  },
  {
   "cell_type": "code",
   "execution_count": null,
   "id": "a6e1ca8d",
   "metadata": {},
   "outputs": [],
   "source": [
    "from langchain_community.document_loaders import WebBaseLoader"
   ]
  },
  {
   "cell_type": "code",
   "execution_count": null,
   "id": "745e7dd2",
   "metadata": {},
   "outputs": [],
   "source": [
    "# Text Embeddings Inference\n",
    "embeddings = HuggingFaceEndpointEmbeddings(model=\"http://localhost:8080\")\n",
    "\n",
    "def batched(chunks, batch_size: int = 32):\n",
    "    for i in range(0, len(chunks), batch_size):\n",
    "        yield chunks[i:i + batch_size]\n",
    "\n",
    "texts = [text.page_content for text in chunks]\n",
    "all_vectors = []\n",
    "\n",
    "for batch in batched(texts, 32):\n",
    "    vecs = embeddings.embed_documents(batch)\n",
    "    all_vectors.extend(vecs)\n",
    "    \n",
    "all_vectors"
   ]
  },
  {
   "cell_type": "markdown",
   "id": "a2133c43",
   "metadata": {},
   "source": [
    "## Vetorstore\n",
    "Initialize ChromaDB and Store the chunks in vector representation"
   ]
  },
  {
   "cell_type": "code",
   "execution_count": 8,
   "id": "8541bc4b",
   "metadata": {},
   "outputs": [],
   "source": [
    "from langchain.vectorstores import FAISS\n",
    "\n",
    "for batch in batched(chunks, 32):\n",
    "    vectorestore = FAISS.from_documents(\n",
    "        documents=batch,\n",
    "        embedding=embeddings,\n",
    "    )\n",
    "\n",
    "    vectorestore.save_local(\"ops-2025\")"
   ]
  },
  {
   "cell_type": "markdown",
   "id": "d2c1be1a",
   "metadata": {},
   "source": [
    "### Test the similarity search"
   ]
  },
  {
   "cell_type": "code",
   "execution_count": null,
   "id": "ed7fc581",
   "metadata": {},
   "outputs": [
    {
     "data": {
      "text/plain": [
       "[Document(id='1913f407-9b06-494f-b9c2-cb57a0ea35fc', metadata={'producer': 'LibreOffice 7.5', 'creator': 'Writer', 'creationdate': '2024-10-16T11:52:46+02:00', 'author': 'BfArM', 'moddate': '2024-10-21T17:45:24+02:00', 'title': 'OPS Version 2025 Systematisches Verzeichnis', 'source': 'data/ops_2025.pdf', 'total_pages': 662, 'page': 660, 'page_label': '660', 'chunk_method': 'smar_pdf_processor', 'char_count': 1960, 'ops_code': None}, page_content='Katheter liegen! 4 20. Invasives Kreislaufmonitoring HZV-Messungen mittels PiCCO oder PA-Katheter oder FATD (femoral artery thermodilution) 5 21. Dialyse-Verfahren Hier sind alle Nierenersatzverfahren gemeint. Ein entsprechender OPS-Kode muss gesondert angegeben werden. 6 22. Intrakranielle Druckmessung (invasives Verfahren) 4 23. Therapie einer Alkalose oder Azidose 4 24. Spezielle Interventionen auf der Intensivstation z.B. Tracheotomie, Kardioversion Diese Punkte können nur einmal pro Tag angerechnet werden. 8 25. Aktionen außerhalb der Intensivstation, für die ein Transport erforderlich ist Diese Punkte können nur einmal pro Tag angerechnet werden. 5 Maximal erreichbare Punktzahl 196 * Kann in Ausnahmefällen auch für Erwachsene angewendet werden, wenn deren Behandlung in einer Abteilung oder Klinik für Kinder- und Jugendliche erforderlich ist, z.B. bei angeborenen Fehlbildungen, angeborenen Stoffwechselstörungen, pädiatrische hämatologisch-onkologischen Erkrankungen,'),\n",
       " Document(id='ebdbf5b4-ea24-430b-8176-a768e5a824f7', metadata={'producer': 'LibreOffice 7.5', 'creator': 'Writer', 'creationdate': '2024-10-16T11:52:46+02:00', 'author': 'BfArM', 'moddate': '2024-10-21T17:45:24+02:00', 'title': 'OPS Version 2025 Systematisches Verzeichnis', 'source': 'data/ops_2025.pdf', 'total_pages': 662, 'page': 657, 'page_label': '657', 'chunk_method': 'smar_pdf_processor', 'char_count': 1268, 'ops_code': None}, page_content='Katecholamine (>1) 4 Flüssigkeitsersatz in hohen Mengen (>5 l/24 Std.) 4 Peripherer arterieller Katheter 5 Linksvorhof-Katheter / Pulmonalis-Katheter 8 Hämofiltration / Dialyse 3 Intrakranielle Druckmessung 4 Behandlung einer metabolischen Azidose / Alkalose 4 Spezielle Interventionen auf der ITS (z.B. Tracheotomie, Kardioversion) 5 Aktionen außerhalb der Station (Diagnostik / Operation) 5 657/662 OPS Version 2025'),\n",
       " Document(id='4d6e22f0-f4b3-449f-b8f3-b9ca5fe294a2', metadata={'producer': 'LibreOffice 7.5', 'creator': 'Writer', 'creationdate': '2024-10-16T11:52:46+02:00', 'author': 'BfArM', 'moddate': '2024-10-21T17:45:24+02:00', 'title': 'OPS Version 2025 Systematisches Verzeichnis', 'source': 'data/ops_2025.pdf', 'total_pages': 662, 'page': 659, 'page_label': '659', 'chunk_method': 'smar_pdf_processor', 'char_count': 831, 'ops_code': None}, page_content='Kriterien Punkte 6. PaO2/FiO2 (nur, wenn beatmet – inkl. Masken-, Helm-, mono-/binasales CPAP, Humidified high flow nasal cannulae (HHFNC) bei Neugeborenen und Säuglingen – oder unter Head-Box; PaO2 in mmHg, FiO2 als Fraktion) \\uf0b3 300 0 \\uf0b3 200 bis < 300 2 \\uf0b3 100 bis < 200 8 < 100 13 7. PaCO2 [mmHg] < 80 0 \\uf0b3 80 6 8. Leukozyten [103/mm3] \\uf0b3 4 bis < 20 0 \\uf0b3 20 3 \\uf0b3 1 bis < 4 3 < 1 12 9. Thrombozyten [103/mm3] \\uf0b3 100 0 \\uf0b3 50 bis 100 2 < 50 6 10. Standard Base Excess [SBE] \\uf0b3 -3,0 bis \\uf0a3 +3,0 0 \\uf0b3 -8,0 bis < -3,0 2 > +3,0 bis \\uf0a3+8,0 2 \\uf0b3 -13,0 bis < -8,0 6 > +8,0 6 < -13,0 10 11. Kreatinin [μmol/l] < 53 0 \\uf0b3 53 bis < 159 (Alter \\uf0b3 1 Jahr) 4 \\uf0b3 53 bis < 159 (Alter < 1 Jahr) 6 \\uf0b3 159 10 12. Prothrombinzeit nach Quick \\uf0b3 60 % 0 \\uf0b3 40 bis < 60 % 2 < 40 % 6 13. Glutamat-Oxalacetat-Transaminase (GOT) [U/l] < 1.000 0 \\uf0b3 1.000 4 659/662 OPS Version 2025'),\n",
       " Document(id='5b1212e8-8dfd-400f-9c1b-650b2e2e70b8', metadata={'producer': 'LibreOffice 7.5', 'creator': 'Writer', 'creationdate': '2024-10-16T11:52:46+02:00', 'author': 'BfArM', 'moddate': '2024-10-21T17:45:24+02:00', 'title': 'OPS Version 2025 Systematisches Verzeichnis', 'source': 'data/ops_2025.pdf', 'total_pages': 662, 'page': 661, 'page_label': '661', 'chunk_method': 'smar_pdf_processor', 'char_count': 1515, 'ops_code': None}, page_content='Therapieeinheiten pro Patient für Erwachsene Anzahl der Patienten pro Gruppe Therapiedauer (Mindestdauer in Minuten) 25 Min. 50 Min. 75 Min. usw. Einzeltherapie 1,00 TE 2,00 TE 3,00 TE 2 0,50 TE 1,00 TE 1,50 TE 3 0,33 TE 0,67 TE 1,00 TE 4 0,25 TE 0,50 TE 0,75 TE 5 0,20 TE 0,40 TE 0,60 TE 6 0,17 TE 0,33 TE 0,50 TE 7 0,14 TE 0,29 TE 0,43 TE 8 0,13 TE 0,25 TE 0,38 TE 9 0,11 TE 0,22 TE 0,33 TE 10 0,10 TE 0,20 TE 0,30 TE 11 0,09 TE 0,18 TE 0,27 TE 12 0,08 TE 0,17 TE 0,25 TE 13 0,08 TE 0,15 TE 0,23 TE 14 0,07 TE 0,14 TE 0,21 TE 15 0,07 TE 0,13 TE 0,20 TE 16 0,06 TE 0,13 TE 0,19 TE 17 0,06 TE 0,12 TE 0,18 TE 18 0,06 TE 0,11 TE 0,17 TE 661/662 OPS Version 2025'),\n",
       " Document(id='25b2bdac-218c-4abd-aaed-0b1922db2b3a', metadata={'producer': 'LibreOffice 7.5', 'creator': 'Writer', 'creationdate': '2024-10-16T11:52:46+02:00', 'author': 'BfArM', 'moddate': '2024-10-21T17:45:24+02:00', 'title': 'OPS Version 2025 Systematisches Verzeichnis', 'source': 'data/ops_2025.pdf', 'total_pages': 662, 'page': 657, 'page_label': '657', 'chunk_method': 'smar_pdf_processor', 'char_count': 1268, 'ops_code': None}, page_content='Punkte Variablen 0 6 8 9 10 17 Chronische Leiden Neoplasie mit Metastase Hämato- logische Neoplasie AIDS* Aufnahmestatus** Geplant chirurgisch Medizinisch Nicht geplant chirurgisch * Wertung bei positivem HIV-Test und entsprechenden klinischen Komplikationen ** Geplant chirurgisch: Operationstermin mindestens 24 Stunden vorher geplant Nicht geplant chirurgisch: Operationstermin erst in den letzten 24 Stunden geplant Medizinisch: mindestens eine Woche lang nicht operiert Achtung! Bei den chronischen Leiden darf nur das mit der höchsten Punktzahl berechnet werden. Punkte Variablen 0 5 7 12 13 15 16 18 26 Alter des Patienten <40 40-59 60-69 70-74 75-79 ≥80 Aus dem TISS-28 (Therapeutic Intervention Scoring System) werden lediglich die 10 aufwendigsten Merkmale täglich erfasst: Leistung: Punkte pro Tag: Apparative Beatmung 5 Infusion multipler Katecholamine (>1) 4 Flüssigkeitsersatz in hohen Mengen (>5 l/24 Std.) 4 Peripherer arterieller Katheter 5 Linksvorhof-Katheter / Pulmonalis-Katheter'),\n",
       " Document(id='9fcdbe06-db9b-45ea-8cfd-21ef54dbf618', metadata={'producer': 'LibreOffice 7.5', 'creator': 'Writer', 'creationdate': '2024-10-16T11:52:46+02:00', 'author': 'BfArM', 'moddate': '2024-10-21T17:45:24+02:00', 'title': 'OPS Version 2025 Systematisches Verzeichnis', 'source': 'data/ops_2025.pdf', 'total_pages': 662, 'page': 660, 'page_label': '660', 'chunk_method': 'smar_pdf_processor', 'char_count': 1960, 'ops_code': None}, page_content='Kriterien Punkte 14. Pupillenreaktion bds. reagierend oder Größe < 3 mm Durchmesser 0 nur 1 Seite reagierend und Größe \\uf0b3 3 mm Durchmesser 3 bds. lichtstarr und Größe \\uf0b3 3 mm Durchmesser 8 15. Glasgow Coma Scale \\uf0b3 8 0 \\uf0b3 4 bis < 8 6 < 4 13 16. Apparative Beatmung inklusive jeglicher Form von CPAP 5 17. Infusion von > 1 Katecholamin oder PDE-III-Hemmer oder Vasopressor (Dopamin, Dobutamin, Adrenalin, Noradrenalin, Milrinon, Amrinon, Enoximon, Vasopressin, Terlipressin ...) 4 18. Flüssigkeitsersatz > 3.000 ml/m2KOF/24h 4 19. Liegende Katheter Hierzu gehören z.B. arterieller Gefäßzugang, ZVK, Thorax-, Pricard-, Ascitesdrainage, Ureter-Splint, Katheter zur Messung des intraabdominalen Druckes. Hierzu gehören nicht transurethraler oder suprapubischer Blasenkatheter. Diese Punkte können nur einmal pro Tag angerechnet werden, auch wenn mehrere Katheter liegen! 4 20. Invasives Kreislaufmonitoring HZV-Messungen mittels PiCCO oder PA-Katheter oder FATD (femoral artery thermodilution) 5 21.'),\n",
       " Document(id='80826a15-9928-458a-bd0c-ac189619a4a7', metadata={'producer': 'LibreOffice 7.5', 'creator': 'Writer', 'creationdate': '2024-10-16T11:52:46+02:00', 'author': 'BfArM', 'moddate': '2024-10-21T17:45:24+02:00', 'title': 'OPS Version 2025 Systematisches Verzeichnis', 'source': 'data/ops_2025.pdf', 'total_pages': 662, 'page': 655, 'page_label': '655', 'chunk_method': 'smar_pdf_processor', 'char_count': 2066, 'ops_code': None}, page_content='Schlüsselnummer 9-999.92 .93 Nicht belegte Schlüsselnummer 9-999.93 .94 Nicht belegte Schlüsselnummer 9-999.94 .95 Nicht belegte Schlüsselnummer 9-999.95 .96 Nicht belegte Schlüsselnummer 9-999.96 .97 Nicht belegte Schlüsselnummer 9-999.97 .98 Nicht belegte Schlüsselnummer 9-999.98 .99 Nicht belegte Schlüsselnummer 9-999.99 655/662 OPS Version 2025'),\n",
       " Document(id='4e753f57-fc65-4745-a6a3-852ab968bd75', metadata={'producer': 'LibreOffice 7.5', 'creator': 'Writer', 'creationdate': '2024-10-16T11:52:46+02:00', 'author': 'BfArM', 'moddate': '2024-10-21T17:45:24+02:00', 'title': 'OPS Version 2025 Systematisches Verzeichnis', 'source': 'data/ops_2025.pdf', 'total_pages': 662, 'page': 656, 'page_label': '656', 'chunk_method': 'smar_pdf_processor', 'char_count': 1272, 'ops_code': None}, page_content='Ausfuhr Urin [l/d] ≥1,0 0,5- <1,0 <0,5 Harnstoff** [g/l] <0,6 0,6- <1,8 ≥1,8 Leukozyten [10³/mm³] 1,0- <20 ≥20 <1,0 Kalium*** [mmol/l] 3,0- <5,0 ≥5,0 <3,0 Natrium*** [mmol/l] 125- <145 ≥145 <125 Bicarbonat*** [mmol/l] ≥20 15- <20 <15 Bilirubin** [µmol/l] <68,4 68,4- <102,6 ≥102,6 * Erhebung nur im Falle der maschinellen Beatmung ** Im Serum oder Plasma *** Im Serum, Plasma oder Vollblut 656/662 Systematisches Verzeichnis'),\n",
       " Document(id='0f2b3798-a3ed-44dc-b57d-abbaf2b5dfba', metadata={'producer': 'LibreOffice 7.5', 'creator': 'Writer', 'creationdate': '2024-10-16T11:52:46+02:00', 'author': 'BfArM', 'moddate': '2024-10-21T17:45:24+02:00', 'title': 'OPS Version 2025 Systematisches Verzeichnis', 'source': 'data/ops_2025.pdf', 'total_pages': 662, 'page': 662, 'page_label': '662', 'chunk_method': 'smar_pdf_processor', 'char_count': 614, 'ops_code': None}, page_content='Anrechenbare Therapieeinheiten pro Patient für Kinder und Jugendliche Anzahl der Patienten pro Gruppe Therapiedauer (Mindestdauer in Minuten) 15 Min. 30 Min. 45 Min. usw. Einzeltherapie 1,00 TE 2,00 TE 3,00 TE 2 0,50 TE 1,00 TE 1,50 TE 3 0,33 TE 0,67 TE 1,00 TE 4 0,25 TE 0,50 TE 0,75 TE 5 0,20 TE 0,40 TE 0,60 TE 6 0,17 TE 0,33 TE 0,50 TE 7 0,14 TE 0,29 TE 0,43 TE 8 0,13 TE 0,25 TE 0,38 TE 9 0,11 TE 0,22 TE 0,33 TE 10 0,10 TE 0,20 TE 0,30 TE 11 0,09 TE 0,18 TE 0,27 TE 12 0,08 TE 0,17 TE 0,25 TE 13 0,08 TE 0,15 TE 0,23 TE 14 0,07 TE 0,14 TE 0,21 TE 15 0,07 TE 0,13 TE 0,20 TE 662/662 Systematisches Verzeichnis'),\n",
       " Document(id='40b7835b-6d9e-4ac3-8a40-625a2ba13f41', metadata={'producer': 'LibreOffice 7.5', 'creator': 'Writer', 'creationdate': '2024-10-16T11:52:46+02:00', 'author': 'BfArM', 'moddate': '2024-10-21T17:45:24+02:00', 'title': 'OPS Version 2025 Systematisches Verzeichnis', 'source': 'data/ops_2025.pdf', 'total_pages': 662, 'page': 656, 'page_label': '656', 'chunk_method': 'smar_pdf_processor', 'char_count': 1272, 'ops_code': None}, page_content='Berechnung der Aufwandspunkte für die Intensivmedizinische Komplexbehandlung bei Erwachsenen Die Anzahl der Aufwandspunkte für die Intensivmedizinische Komplexbehandlung errechnet sich aus der Summe der täglichen SAPS II (ohne Glasgow-Coma-Scale) über die Verweildauer auf der Intensivstation (total SAPS II) und der Summe von 10 täglich ermittelten aufwendigen Leistungen aus dem TISS-Katalog über die Verweildauer auf der Intensivstation. Der tägliche SAPS II ( Simplified Acute Physiology Score) errechnet sich nach folgenden Tabellen. Erfasst werden die jeweils schlechtesten Werte innerhalb der vergangenen 24 Stunden. Punkte Variablen 0 1 2 3 4 5 6 7 9 10 11 12 13 Herzfrequenz [1/min] 70- 119 40- 69 120- 159 ≥160 <40 Systolischer Blutdruck [mmHg] 100- 199 ≥200 70- 99 <70 Körpertemperatur [°C] <39 ≥39 PaO2/FiO2* [mmHg] ≥200 100- <200 <100 Ausfuhr Urin [l/d] ≥1,0 0,5- <1,0 <0,5 Harnstoff** [g/l] <0,6 0,6- <1,8 ≥1,8 Leukozyten [10³/mm³] 1,0- <20 ≥20 <1,0 Kalium*** [mmol/l] 3,0- <5,0 ≥5,0')]"
      ]
     },
     "execution_count": 9,
     "metadata": {},
     "output_type": "execute_result"
    }
   ],
   "source": [
    "### Advanced similarity search\n",
    "\n",
    "query = \"Was meint der OPS Code 1-27\"\n",
    "\n",
    "result = vectorestore.similarity_search(query=\"Was ist OPS 1-20\", k=10)\n",
    "result"
   ]
  },
  {
   "cell_type": "markdown",
   "id": "dff2ead7",
   "metadata": {},
   "source": [
    "### Understandig similarity score\n",
    "The similarity score represents how closly related a document chunk is to your query. The scoring depends on the distance\n",
    "metric used.\n",
    "\n",
    "ChromaDB default: Uses L2 distance (Euclidean distance)\n",
    "\n",
    "- Lower scores = MORE similar (closer in vector space)  \n",
    "- Score of 0 = identical vectors  \n",
    "- Typical range: 0 to 2 (but can be higher)\n",
    "\n",
    "\n",
    "Cosine similarity (if configured):  \n",
    "\n",
    "- Higher scores = More similar  \n",
    "- Range: -1 to 1 (1 being identical)"
   ]
  },
  {
   "cell_type": "code",
   "execution_count": 14,
   "id": "9bec6cf8",
   "metadata": {},
   "outputs": [],
   "source": [
    "### Initialize LLM, RAG Chain, Prompt Template, Query the RAG System\n",
    "from langchain_ollama import ChatOllama\n",
    "from langchain_groq import ChatGroq\n",
    "\n",
    "llm = ChatOllama(\n",
    "    model=\"llama3.2:3b\",    \n",
    "    temperature=0.2,\n",
    "    top_p=0.6,\n",
    "    num_ctx=8192, \n",
    "    reasoning=False  \n",
    ")"
   ]
  },
  {
   "cell_type": "code",
   "execution_count": null,
   "id": "55962764",
   "metadata": {},
   "outputs": [],
   "source": [
    "test_response = llm.stream(\"Was ist unter den OPS Codes 5-38 zu finden?\")\n",
    "\n",
    "for text in test_response:\n",
    "    print(text.content, end='')"
   ]
  },
  {
   "cell_type": "markdown",
   "id": "e230c60c",
   "metadata": {},
   "source": [
    "## Modern RAG Chain"
   ]
  },
  {
   "cell_type": "code",
   "execution_count": 10,
   "id": "4060ac37",
   "metadata": {},
   "outputs": [],
   "source": [
    "from langchain.chains import create_retrieval_chain\n",
    "from langchain_core.prompts import ChatPromptTemplate\n",
    "from langchain.chains.combine_documents import create_stuff_documents_chain"
   ]
  },
  {
   "cell_type": "code",
   "execution_count": 11,
   "id": "59873157",
   "metadata": {},
   "outputs": [],
   "source": [
    "## Convert vectorestore to retriever\n",
    "retriever = vectorestore.as_retriever(\n",
    "    search_type=\"similarity\",\n",
    "    search_kwargs={\"k\": 10},\n",
    ")"
   ]
  },
  {
   "cell_type": "code",
   "execution_count": 15,
   "id": "7dabc8fb",
   "metadata": {},
   "outputs": [],
   "source": [
    "## Create a prompt template\n",
    "system_prompt = \"\"\"\n",
    "You are an assistant for question-answering tasks.  \n",
    "Answer the following question **only** based on the provided context.  \n",
    "\n",
    "Rules:  \n",
    "- Use only the text from the context. Do not add any external knowledge.  \n",
    "- If the information is not contained in the context, reply with: \"I don’t know.\"  \n",
    "- Always include the OPS codes mentioned in the context.  \n",
    "- Always provide the page number(s) if available.  \n",
    "- Answer in German.  \n",
    "\n",
    "Context:  \n",
    "{context}  \n",
    "\n",
    "Question:  \n",
    "{input}  \n",
    "\n",
    "Answer format (always use this structure):  \n",
    "OPS-Code: <code(s)>  \n",
    "Seite(n): <number(s)>  \n",
    "Beschreibung:\\n \n",
    "\n",
    "<answer in German>\n",
    "\"\"\"\n",
    "\n",
    "prompt = ChatPromptTemplate.from_messages([\n",
    "    (\"system\", system_prompt),\n",
    "    (\"user\", \"{input}\")   \n",
    "])"
   ]
  },
  {
   "cell_type": "code",
   "execution_count": 16,
   "id": "3f573363",
   "metadata": {},
   "outputs": [
    {
     "data": {
      "text/plain": [
       "RunnableBinding(bound=RunnableBinding(bound=RunnableAssign(mapper={\n",
       "  context: RunnableLambda(format_docs)\n",
       "}), kwargs={}, config={'run_name': 'format_inputs'}, config_factories=[])\n",
       "| ChatPromptTemplate(input_variables=['context', 'input'], input_types={}, partial_variables={}, messages=[SystemMessagePromptTemplate(prompt=PromptTemplate(input_variables=['context', 'input'], input_types={}, partial_variables={}, template='\\nYou are an assistant for question-answering tasks.  \\nAnswer the following question **only** based on the provided context.  \\n\\nRules:  \\n- Use only the text from the context. Do not add any external knowledge.  \\n- If the information is not contained in the context, reply with: \"I don’t know.\"  \\n- Always include the OPS codes mentioned in the context.  \\n- Always provide the page number(s) if available.  \\n- Answer in German.  \\n\\nContext:  \\n{context}  \\n\\nQuestion:  \\n{input}  \\n\\nAnswer format (always use this structure):  \\nOPS-Code: <code(s)>  \\nSeite(n): <number(s)>  \\nBeschreibung:\\n \\n\\n<answer in German>\\n'), additional_kwargs={}), HumanMessagePromptTemplate(prompt=PromptTemplate(input_variables=['input'], input_types={}, partial_variables={}, template='{input}'), additional_kwargs={})])\n",
       "| ChatOllama(model='llama3.2:3b', reasoning=False, num_ctx=8192, temperature=0.2, top_p=0.6)\n",
       "| StrOutputParser(), kwargs={}, config={'run_name': 'stuff_documents_chain'}, config_factories=[])"
      ]
     },
     "execution_count": 16,
     "metadata": {},
     "output_type": "execute_result"
    }
   ],
   "source": [
    "## Create document chain\n",
    "document_chain = create_stuff_documents_chain(llm, prompt)\n",
    "document_chain"
   ]
  },
  {
   "cell_type": "markdown",
   "id": "ebb75137",
   "metadata": {},
   "source": [
    "**This chain**\n",
    "- Takes retrieved documents\n",
    "- \"Stuffs\" them into the prompt's {context} placeholder\n",
    "- Sends the complete prompt to the LLM\n",
    "- Returns the LLM's response\n"
   ]
  },
  {
   "cell_type": "code",
   "execution_count": 22,
   "id": "b44956a4",
   "metadata": {},
   "outputs": [
    {
     "name": "stdout",
     "output_type": "stream",
     "text": [
      "OPS-Code: 9-999.92 .93 \n",
      "Seite(n): 655/662 \n",
      "Beschreibung: Nicht belegte Schlüsselnummer, Liste 9.80 \n",
      "\n",
      "Ich weiß nicht, was genau neu in dem OPS-Katalog 2025 ist.\n"
     ]
    }
   ],
   "source": [
    "from pprint import pprint\n",
    "\n",
    "\n",
    "### Create the final RAG Chain\n",
    "rag_chain = create_retrieval_chain(retriever, document_chain)\n",
    "result = rag_chain.invoke({\"input\":\"Was ist neu im OPS Katalog 2025\"})\n",
    "\n",
    "print(result['answer'])"
   ]
  },
  {
   "cell_type": "code",
   "execution_count": null,
   "id": "cfa12025",
   "metadata": {},
   "outputs": [],
   "source": []
  }
 ],
 "metadata": {
  "kernelspec": {
   "display_name": ".venv",
   "language": "python",
   "name": "python3"
  },
  "language_info": {
   "codemirror_mode": {
    "name": "ipython",
    "version": 3
   },
   "file_extension": ".py",
   "mimetype": "text/x-python",
   "name": "python",
   "nbconvert_exporter": "python",
   "pygments_lexer": "ipython3",
   "version": "3.12.3"
  }
 },
 "nbformat": 4,
 "nbformat_minor": 5
}
